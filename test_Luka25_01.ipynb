{
 "cells": [
  {
   "cell_type": "code",
   "execution_count": 2,
   "metadata": {},
   "outputs": [
    {
     "ename": "OSError",
     "evalue": "asp1m1_sl.csv not found.",
     "output_type": "error",
     "traceback": [
      "\u001b[1;31m---------------------------------------------------------------------------\u001b[0m",
      "\u001b[1;31mOSError\u001b[0m                                   Traceback (most recent call last)",
      "\u001b[1;32mc:\\Users\\Luka\\Documents\\Riteh\\UMS\\test_Luka25_01.ipynb Cell 1\u001b[0m in \u001b[0;36m<cell line: 14>\u001b[1;34m()\u001b[0m\n\u001b[0;32m      <a href='vscode-notebook-cell:/c%3A/Users/Luka/Documents/Riteh/UMS/test_Luka25_01.ipynb#W0sZmlsZQ%3D%3D?line=7'>8</a>\u001b[0m \u001b[39mimport\u001b[39;00m \u001b[39mmatplotlib\u001b[39;00m\u001b[39m.\u001b[39;00m\u001b[39mpyplot\u001b[39;00m \u001b[39mas\u001b[39;00m \u001b[39mplt\u001b[39;00m\n\u001b[0;32m     <a href='vscode-notebook-cell:/c%3A/Users/Luka/Documents/Riteh/UMS/test_Luka25_01.ipynb#W0sZmlsZQ%3D%3D?line=9'>10</a>\u001b[0m \u001b[39m#staviš tu load np.loadtxt() pogle \u001b[39;00m\n\u001b[0;32m     <a href='vscode-notebook-cell:/c%3A/Users/Luka/Documents/Riteh/UMS/test_Luka25_01.ipynb#W0sZmlsZQ%3D%3D?line=10'>11</a>\u001b[0m \u001b[39m# za FFT scipy.fff.rfft()\u001b[39;00m\n\u001b[0;32m     <a href='vscode-notebook-cell:/c%3A/Users/Luka/Documents/Riteh/UMS/test_Luka25_01.ipynb#W0sZmlsZQ%3D%3D?line=11'>12</a>\u001b[0m \u001b[39m# rms obrisati dijelove koda\u001b[39;00m\n\u001b[1;32m---> <a href='vscode-notebook-cell:/c%3A/Users/Luka/Documents/Riteh/UMS/test_Luka25_01.ipynb#W0sZmlsZQ%3D%3D?line=13'>14</a>\u001b[0m datoteka\u001b[39m=\u001b[39mnp\u001b[39m.\u001b[39;49mloadtxt(\u001b[39m'\u001b[39;49m\u001b[39masp1m1_sl.csv\u001b[39;49m\u001b[39m'\u001b[39;49m,delimiter\u001b[39m=\u001b[39;49m\u001b[39m\"\u001b[39;49m\u001b[39m,\u001b[39;49m\u001b[39m\"\u001b[39;49m, skiprows\u001b[39m=\u001b[39;49m\u001b[39m1\u001b[39;49m)\n\u001b[0;32m     <a href='vscode-notebook-cell:/c%3A/Users/Luka/Documents/Riteh/UMS/test_Luka25_01.ipynb#W0sZmlsZQ%3D%3D?line=15'>16</a>\u001b[0m \u001b[39m# Ne treba ponovno loadirati datoteku svaki put.\u001b[39;00m\n\u001b[0;32m     <a href='vscode-notebook-cell:/c%3A/Users/Luka/Documents/Riteh/UMS/test_Luka25_01.ipynb#W0sZmlsZQ%3D%3D?line=16'>17</a>\u001b[0m emg_dat \u001b[39m=\u001b[39m datoteka[:, \u001b[39m1\u001b[39m]\n",
      "File \u001b[1;32mc:\\Users\\Luka\\anaconda3\\lib\\site-packages\\numpy\\lib\\npyio.py:1067\u001b[0m, in \u001b[0;36mloadtxt\u001b[1;34m(fname, dtype, comments, delimiter, converters, skiprows, usecols, unpack, ndmin, encoding, max_rows, like)\u001b[0m\n\u001b[0;32m   1065\u001b[0m     fname \u001b[39m=\u001b[39m os_fspath(fname)\n\u001b[0;32m   1066\u001b[0m \u001b[39mif\u001b[39;00m _is_string_like(fname):\n\u001b[1;32m-> 1067\u001b[0m     fh \u001b[39m=\u001b[39m np\u001b[39m.\u001b[39;49mlib\u001b[39m.\u001b[39;49m_datasource\u001b[39m.\u001b[39;49mopen(fname, \u001b[39m'\u001b[39;49m\u001b[39mrt\u001b[39;49m\u001b[39m'\u001b[39;49m, encoding\u001b[39m=\u001b[39;49mencoding)\n\u001b[0;32m   1068\u001b[0m     fencoding \u001b[39m=\u001b[39m \u001b[39mgetattr\u001b[39m(fh, \u001b[39m'\u001b[39m\u001b[39mencoding\u001b[39m\u001b[39m'\u001b[39m, \u001b[39m'\u001b[39m\u001b[39mlatin1\u001b[39m\u001b[39m'\u001b[39m)\n\u001b[0;32m   1069\u001b[0m     fh \u001b[39m=\u001b[39m \u001b[39miter\u001b[39m(fh)\n",
      "File \u001b[1;32mc:\\Users\\Luka\\anaconda3\\lib\\site-packages\\numpy\\lib\\_datasource.py:193\u001b[0m, in \u001b[0;36mopen\u001b[1;34m(path, mode, destpath, encoding, newline)\u001b[0m\n\u001b[0;32m    156\u001b[0m \u001b[39m\"\"\"\u001b[39;00m\n\u001b[0;32m    157\u001b[0m \u001b[39mOpen `path` with `mode` and return the file object.\u001b[39;00m\n\u001b[0;32m    158\u001b[0m \n\u001b[1;32m   (...)\u001b[0m\n\u001b[0;32m    189\u001b[0m \n\u001b[0;32m    190\u001b[0m \u001b[39m\"\"\"\u001b[39;00m\n\u001b[0;32m    192\u001b[0m ds \u001b[39m=\u001b[39m DataSource(destpath)\n\u001b[1;32m--> 193\u001b[0m \u001b[39mreturn\u001b[39;00m ds\u001b[39m.\u001b[39;49mopen(path, mode, encoding\u001b[39m=\u001b[39;49mencoding, newline\u001b[39m=\u001b[39;49mnewline)\n",
      "File \u001b[1;32mc:\\Users\\Luka\\anaconda3\\lib\\site-packages\\numpy\\lib\\_datasource.py:533\u001b[0m, in \u001b[0;36mDataSource.open\u001b[1;34m(self, path, mode, encoding, newline)\u001b[0m\n\u001b[0;32m    530\u001b[0m     \u001b[39mreturn\u001b[39;00m _file_openers[ext](found, mode\u001b[39m=\u001b[39mmode,\n\u001b[0;32m    531\u001b[0m                               encoding\u001b[39m=\u001b[39mencoding, newline\u001b[39m=\u001b[39mnewline)\n\u001b[0;32m    532\u001b[0m \u001b[39melse\u001b[39;00m:\n\u001b[1;32m--> 533\u001b[0m     \u001b[39mraise\u001b[39;00m \u001b[39mIOError\u001b[39;00m(\u001b[39m\"\u001b[39m\u001b[39m%s\u001b[39;00m\u001b[39m not found.\u001b[39m\u001b[39m\"\u001b[39m \u001b[39m%\u001b[39m path)\n",
      "\u001b[1;31mOSError\u001b[0m: asp1m1_sl.csv not found."
     ]
    }
   ],
   "source": [
    "import scipy.fft\n",
    "import numpy as np\n",
    "import scipy.signal\n",
    "import random\n",
    "import matplotlib.pyplot as plt\n",
    "import seaborn as sns\n",
    "import matplotlib as mpl\n",
    "import matplotlib.pyplot as plt\n",
    "\n",
    "#staviš tu load np.loadtxt() pogle \n",
    "# za FFT scipy.fff.rfft()\n",
    "# rms obrisati dijelove koda\n",
    "\n",
    "datoteka=np.loadtxt('asp1m1_sl.csv',delimiter=\",\", skiprows=1)\n",
    "\n",
    "# Ne treba ponovno loadirati datoteku svaki put.\n",
    "emg_dat = datoteka[:, 1]\n",
    "grip_dat = datoteka[:, 2]\n",
    "time_dat = datoteka[:, 0]\n",
    "# Data length\n",
    "dat_len = time_dat.shape[0]\n",
    "display(dat_len)\n",
    "# Ispis\n",
    "display(time_dat)\n",
    "display(emg_dat)\n",
    "display(grip_dat)\n",
    "# Sampling rate - median daje bolje rezultate od prosjeka\n",
    "sampling_rate = 1./np.median(np.diff(time_dat[10:-10])) # iz ROS skripte\n",
    "display(sampling_rate)\n"
   ]
  },
  {
   "cell_type": "code",
   "execution_count": null,
   "metadata": {},
   "outputs": [],
   "source": [
    "######################\n",
    "# FFT treba napraviti na prozorima od 0.5s, kao što smo i u real-time-u s ROS-om radili\n",
    "# Calculate window size for FFT - always round to nearest even number\n",
    "fft_relative_window_size = 0.5\n",
    "# Zaokružimo na najbliži cijeli broj - mora biti cijeli broj podataka pod prozorom\n",
    "fft_window_size = round(fft_relative_window_size * sampling_rate)\n",
    "# Parni broj točaka za FFT - 496 po mom izračunu ((990 / 2 = 495) + 1)\n",
    "fft_window_size += (fft_window_size % 2)\n",
    "display(f'fft_window: {fft_window_size}')\n",
    "# FFT resolution\n",
    "fft_resolution = sampling_rate / fft_window_size\n",
    "display(f'fft_resolution: {fft_resolution}')\n",
    "# Ukupan broj podataka mora biti višekratnik veličine prozora da bi obrada funkcionirala\n",
    "# U real-time-u se podaci tako i obrađuju (kad ih se skupi 496)\n",
    "# Reshape data to window_size × n array (disregard starting few points)\n",
    "time_dat = time_dat[dat_len%fft_window_size:].reshape((-1, fft_window_size)) \n",
    "emg_dat = emg_dat[dat_len%fft_window_size:].reshape((-1, fft_window_size)) \n",
    "grip_dat = grip_dat[dat_len%fft_window_size:].reshape((-1, fft_window_size)) \n",
    "# Calculate RFFT on emg_data\n",
    "emg_fft = scipy.fft.rfft(emg_dat)\n",
    "# Ispis oblika matrica\n",
    "display(f'time: {time_dat.shape}')\n",
    "display(f'emg_dat: {emg_dat.shape}')\n",
    "display(f'grip_dat: {grip_dat.shape}')\n",
    "display(f'emg_fft: {emg_fft.shape}')\n",
    "fft_dim = emg_fft.shape[1] # koliko je dugačak redak u fft\n",
    "print (f'fft_dim: {fft_dim}')\n"
   ]
  },
  {
   "cell_type": "code",
   "execution_count": null,
   "metadata": {},
   "outputs": [],
   "source": [
    "\n"
   ]
  },
  {
   "cell_type": "code",
   "execution_count": 3,
   "metadata": {},
   "outputs": [
    {
     "name": "stdout",
     "output_type": "stream",
     "text": [
      "Get current working directory :  c:\\Users\\Luka\\Documents\\Riteh\\UMS\n",
      "['c:\\\\Users\\\\Luka\\\\Documents\\\\Riteh\\\\UMS\\\\new_data\\\\asp1m1_sl.csv', 'c:\\\\Users\\\\Luka\\\\Documents\\\\Riteh\\\\UMS\\\\new_data\\\\asp1m2_sl.csv', 'c:\\\\Users\\\\Luka\\\\Documents\\\\Riteh\\\\UMS\\\\new_data\\\\asp1m3_sl.csv', 'c:\\\\Users\\\\Luka\\\\Documents\\\\Riteh\\\\UMS\\\\new_data\\\\asp2m1_sl.csv', 'c:\\\\Users\\\\Luka\\\\Documents\\\\Riteh\\\\UMS\\\\new_data\\\\asp2m2_sl.csv', 'c:\\\\Users\\\\Luka\\\\Documents\\\\Riteh\\\\UMS\\\\new_data\\\\asp2m3_sl.csv', 'c:\\\\Users\\\\Luka\\\\Documents\\\\Riteh\\\\UMS\\\\new_data\\\\ibp1m1_sl.csv', 'c:\\\\Users\\\\Luka\\\\Documents\\\\Riteh\\\\UMS\\\\new_data\\\\ibp1m2_sl.csv', 'c:\\\\Users\\\\Luka\\\\Documents\\\\Riteh\\\\UMS\\\\new_data\\\\ibp1m3_sl.csv', 'c:\\\\Users\\\\Luka\\\\Documents\\\\Riteh\\\\UMS\\\\new_data\\\\ibp2m1_sl.csv', 'c:\\\\Users\\\\Luka\\\\Documents\\\\Riteh\\\\UMS\\\\new_data\\\\ibp2m2_sl.csv', 'c:\\\\Users\\\\Luka\\\\Documents\\\\Riteh\\\\UMS\\\\new_data\\\\ibp2m3_sl.csv', 'c:\\\\Users\\\\Luka\\\\Documents\\\\Riteh\\\\UMS\\\\new_data\\\\kbp1m1_sl.csv', 'c:\\\\Users\\\\Luka\\\\Documents\\\\Riteh\\\\UMS\\\\new_data\\\\kbp1m2_sl.csv', 'c:\\\\Users\\\\Luka\\\\Documents\\\\Riteh\\\\UMS\\\\new_data\\\\kbp1m3_sl.csv', 'c:\\\\Users\\\\Luka\\\\Documents\\\\Riteh\\\\UMS\\\\new_data\\\\kbp2m1_sl.csv', 'c:\\\\Users\\\\Luka\\\\Documents\\\\Riteh\\\\UMS\\\\new_data\\\\kbp2m2_sl.csv', 'c:\\\\Users\\\\Luka\\\\Documents\\\\Riteh\\\\UMS\\\\new_data\\\\kbp2m3_sl.csv', 'c:\\\\Users\\\\Luka\\\\Documents\\\\Riteh\\\\UMS\\\\new_data\\\\kmp1m1_sl.csv', 'c:\\\\Users\\\\Luka\\\\Documents\\\\Riteh\\\\UMS\\\\new_data\\\\kmp1m2_sl.csv', 'c:\\\\Users\\\\Luka\\\\Documents\\\\Riteh\\\\UMS\\\\new_data\\\\kmp1m3_sl.csv', 'c:\\\\Users\\\\Luka\\\\Documents\\\\Riteh\\\\UMS\\\\new_data\\\\kmp2m1_sl.csv', 'c:\\\\Users\\\\Luka\\\\Documents\\\\Riteh\\\\UMS\\\\new_data\\\\kmp2m2_sl.csv', 'c:\\\\Users\\\\Luka\\\\Documents\\\\Riteh\\\\UMS\\\\new_data\\\\kmp2m3_sl.csv', 'c:\\\\Users\\\\Luka\\\\Documents\\\\Riteh\\\\UMS\\\\new_data\\\\lkp1m1_sl.csv', 'c:\\\\Users\\\\Luka\\\\Documents\\\\Riteh\\\\UMS\\\\new_data\\\\lkp1m2_sl.csv', 'c:\\\\Users\\\\Luka\\\\Documents\\\\Riteh\\\\UMS\\\\new_data\\\\lkp1m3_sl.csv', 'c:\\\\Users\\\\Luka\\\\Documents\\\\Riteh\\\\UMS\\\\new_data\\\\lkp2m1_sl.csv', 'c:\\\\Users\\\\Luka\\\\Documents\\\\Riteh\\\\UMS\\\\new_data\\\\lkp2m2_sl.csv', 'c:\\\\Users\\\\Luka\\\\Documents\\\\Riteh\\\\UMS\\\\new_data\\\\lkp2m3_sl.csv', 'c:\\\\Users\\\\Luka\\\\Documents\\\\Riteh\\\\UMS\\\\new_data\\\\lzp1m1_sl.csv', 'c:\\\\Users\\\\Luka\\\\Documents\\\\Riteh\\\\UMS\\\\new_data\\\\lzp1m2_sl.csv', 'c:\\\\Users\\\\Luka\\\\Documents\\\\Riteh\\\\UMS\\\\new_data\\\\lzp1m3_sl.csv', 'c:\\\\Users\\\\Luka\\\\Documents\\\\Riteh\\\\UMS\\\\new_data\\\\lzp2m1_sl.csv', 'c:\\\\Users\\\\Luka\\\\Documents\\\\Riteh\\\\UMS\\\\new_data\\\\lzp2m2_sl.csv', 'c:\\\\Users\\\\Luka\\\\Documents\\\\Riteh\\\\UMS\\\\new_data\\\\lzp2m3_sl.csv', 'c:\\\\Users\\\\Luka\\\\Documents\\\\Riteh\\\\UMS\\\\new_data\\\\mlp1m1_sl.csv', 'c:\\\\Users\\\\Luka\\\\Documents\\\\Riteh\\\\UMS\\\\new_data\\\\mlp1m2_sl.csv', 'c:\\\\Users\\\\Luka\\\\Documents\\\\Riteh\\\\UMS\\\\new_data\\\\mlp1m3_sl.csv', 'c:\\\\Users\\\\Luka\\\\Documents\\\\Riteh\\\\UMS\\\\new_data\\\\mlp2m1_sl.csv', 'c:\\\\Users\\\\Luka\\\\Documents\\\\Riteh\\\\UMS\\\\new_data\\\\mlp2m2_sl.csv', 'c:\\\\Users\\\\Luka\\\\Documents\\\\Riteh\\\\UMS\\\\new_data\\\\mlp2m3_sl.csv', 'c:\\\\Users\\\\Luka\\\\Documents\\\\Riteh\\\\UMS\\\\new_data\\\\mpp1m1_sl.csv', 'c:\\\\Users\\\\Luka\\\\Documents\\\\Riteh\\\\UMS\\\\new_data\\\\mpp1m2_sl.csv', 'c:\\\\Users\\\\Luka\\\\Documents\\\\Riteh\\\\UMS\\\\new_data\\\\mpp1m3_sl.csv', 'c:\\\\Users\\\\Luka\\\\Documents\\\\Riteh\\\\UMS\\\\new_data\\\\mpp2m1_sl.csv', 'c:\\\\Users\\\\Luka\\\\Documents\\\\Riteh\\\\UMS\\\\new_data\\\\mpp2m2_sl.csv', 'c:\\\\Users\\\\Luka\\\\Documents\\\\Riteh\\\\UMS\\\\new_data\\\\mpp2m3_sl.csv', 'c:\\\\Users\\\\Luka\\\\Documents\\\\Riteh\\\\UMS\\\\new_data\\\\msp1m1_sl.csv', 'c:\\\\Users\\\\Luka\\\\Documents\\\\Riteh\\\\UMS\\\\new_data\\\\msp1m2_sl.csv', 'c:\\\\Users\\\\Luka\\\\Documents\\\\Riteh\\\\UMS\\\\new_data\\\\msp1m3_sl.csv', 'c:\\\\Users\\\\Luka\\\\Documents\\\\Riteh\\\\UMS\\\\new_data\\\\msp2m1_sl.csv', 'c:\\\\Users\\\\Luka\\\\Documents\\\\Riteh\\\\UMS\\\\new_data\\\\msp2m2_sl.csv', 'c:\\\\Users\\\\Luka\\\\Documents\\\\Riteh\\\\UMS\\\\new_data\\\\msp2m3_sl.csv', 'c:\\\\Users\\\\Luka\\\\Documents\\\\Riteh\\\\UMS\\\\new_data\\\\tvp1m1_sl.csv', 'c:\\\\Users\\\\Luka\\\\Documents\\\\Riteh\\\\UMS\\\\new_data\\\\tvp1m2_sl.csv', 'c:\\\\Users\\\\Luka\\\\Documents\\\\Riteh\\\\UMS\\\\new_data\\\\tvp1m3_sl.csv', 'c:\\\\Users\\\\Luka\\\\Documents\\\\Riteh\\\\UMS\\\\new_data\\\\tvp2m1_sl.csv', 'c:\\\\Users\\\\Luka\\\\Documents\\\\Riteh\\\\UMS\\\\new_data\\\\tvp2m2_sl.csv', 'c:\\\\Users\\\\Luka\\\\Documents\\\\Riteh\\\\UMS\\\\new_data\\\\tvp2m3_sl.csv']\n"
     ]
    },
    {
     "data": {
      "text/plain": [
       "65625"
      ]
     },
     "metadata": {},
     "output_type": "display_data"
    },
    {
     "data": {
      "text/plain": [
       "array([1.67360896e+09, 1.67360896e+09, 1.67360896e+09, ...,\n",
       "       1.67360903e+09, 1.67360903e+09, 1.67360903e+09])"
      ]
     },
     "metadata": {},
     "output_type": "display_data"
    },
    {
     "data": {
      "text/plain": [
       "array([3.236048, 3.235543, 3.240375, ..., 4.445672, 4.448556, 4.448845])"
      ]
     },
     "metadata": {},
     "output_type": "display_data"
    },
    {
     "data": {
      "text/plain": [
       "array([1.208014  , 1.17308655, 1.35048345, ..., 1.79372247, 1.81890393,\n",
       "       1.81994877])"
      ]
     },
     "metadata": {},
     "output_type": "display_data"
    },
    {
     "data": {
      "text/plain": [
       "992.969696969697"
      ]
     },
     "metadata": {},
     "output_type": "display_data"
    },
    {
     "data": {
      "text/plain": [
       "'fft_window: 496'"
      ]
     },
     "metadata": {},
     "output_type": "display_data"
    },
    {
     "data": {
      "text/plain": [
       "'fft_resolution: 2.0019550342130987'"
      ]
     },
     "metadata": {},
     "output_type": "display_data"
    },
    {
     "data": {
      "text/plain": [
       "'time: (132, 496)'"
      ]
     },
     "metadata": {},
     "output_type": "display_data"
    },
    {
     "data": {
      "text/plain": [
       "'emg_dat: (132, 496)'"
      ]
     },
     "metadata": {},
     "output_type": "display_data"
    },
    {
     "data": {
      "text/plain": [
       "'grip_dat: (132, 496)'"
      ]
     },
     "metadata": {},
     "output_type": "display_data"
    },
    {
     "data": {
      "text/plain": [
       "'emg_fft: (132, 249)'"
      ]
     },
     "metadata": {},
     "output_type": "display_data"
    },
    {
     "name": "stdout",
     "output_type": "stream",
     "text": [
      "fft_dim: 249\n"
     ]
    },
    {
     "data": {
      "text/plain": [
       "48920"
      ]
     },
     "metadata": {},
     "output_type": "display_data"
    },
    {
     "data": {
      "text/plain": [
       "array([1.67360905e+09, 1.67360905e+09, 1.67360905e+09, ...,\n",
       "       1.67360910e+09, 1.67360910e+09, 1.67360910e+09])"
      ]
     },
     "metadata": {},
     "output_type": "display_data"
    },
    {
     "data": {
      "text/plain": [
       "array([3.345865, 3.345793, 3.346346, ..., 2.952994, 2.949749, 2.951408])"
      ]
     },
     "metadata": {},
     "output_type": "display_data"
    },
    {
     "data": {
      "text/plain": [
       "array([1.624087  , 1.60612736, 1.623069  , ..., 2.64974828, 2.61106383,\n",
       "       2.60906063])"
      ]
     },
     "metadata": {},
     "output_type": "display_data"
    },
    {
     "data": {
      "text/plain": [
       "992.969696969697"
      ]
     },
     "metadata": {},
     "output_type": "display_data"
    },
    {
     "data": {
      "text/plain": [
       "'fft_window: 496'"
      ]
     },
     "metadata": {},
     "output_type": "display_data"
    },
    {
     "data": {
      "text/plain": [
       "'fft_resolution: 2.0019550342130987'"
      ]
     },
     "metadata": {},
     "output_type": "display_data"
    },
    {
     "data": {
      "text/plain": [
       "'time: (98, 496)'"
      ]
     },
     "metadata": {},
     "output_type": "display_data"
    },
    {
     "data": {
      "text/plain": [
       "'emg_dat: (98, 496)'"
      ]
     },
     "metadata": {},
     "output_type": "display_data"
    },
    {
     "data": {
      "text/plain": [
       "'grip_dat: (98, 496)'"
      ]
     },
     "metadata": {},
     "output_type": "display_data"
    },
    {
     "data": {
      "text/plain": [
       "'emg_fft: (98, 249)'"
      ]
     },
     "metadata": {},
     "output_type": "display_data"
    },
    {
     "name": "stdout",
     "output_type": "stream",
     "text": [
      "fft_dim: 249\n"
     ]
    },
    {
     "data": {
      "text/plain": [
       "87673"
      ]
     },
     "metadata": {},
     "output_type": "display_data"
    },
    {
     "data": {
      "text/plain": [
       "array([1.67360913e+09, 1.67360913e+09, 1.67360913e+09, ...,\n",
       "       1.67360922e+09, 1.67360922e+09, 1.67360922e+09])"
      ]
     },
     "metadata": {},
     "output_type": "display_data"
    },
    {
     "data": {
      "text/plain": [
       "array([2.448816, 2.445931, 2.439464, ..., 3.401399, 3.399187, 3.397817])"
      ]
     },
     "metadata": {},
     "output_type": "display_data"
    },
    {
     "data": {
      "text/plain": [
       "array([4.011983  , 3.9942563 , 4.04766068, ..., 2.22733983, 2.22774456,\n",
       "       2.22814938])"
      ]
     },
     "metadata": {},
     "output_type": "display_data"
    },
    {
     "data": {
      "text/plain": [
       "992.969696969697"
      ]
     },
     "metadata": {},
     "output_type": "display_data"
    },
    {
     "data": {
      "text/plain": [
       "'fft_window: 496'"
      ]
     },
     "metadata": {},
     "output_type": "display_data"
    },
    {
     "data": {
      "text/plain": [
       "'fft_resolution: 2.0019550342130987'"
      ]
     },
     "metadata": {},
     "output_type": "display_data"
    },
    {
     "data": {
      "text/plain": [
       "'time: (176, 496)'"
      ]
     },
     "metadata": {},
     "output_type": "display_data"
    },
    {
     "data": {
      "text/plain": [
       "'emg_dat: (176, 496)'"
      ]
     },
     "metadata": {},
     "output_type": "display_data"
    },
    {
     "data": {
      "text/plain": [
       "'grip_dat: (176, 496)'"
      ]
     },
     "metadata": {},
     "output_type": "display_data"
    },
    {
     "data": {
      "text/plain": [
       "'emg_fft: (176, 249)'"
      ]
     },
     "metadata": {},
     "output_type": "display_data"
    },
    {
     "name": "stdout",
     "output_type": "stream",
     "text": [
      "fft_dim: 249\n"
     ]
    },
    {
     "data": {
      "text/plain": [
       "55458"
      ]
     },
     "metadata": {},
     "output_type": "display_data"
    },
    {
     "data": {
      "text/plain": [
       "array([1.67360929e+09, 1.67360929e+09, 1.67360929e+09, ...,\n",
       "       1.67360935e+09, 1.67360935e+09, 1.67360935e+09])"
      ]
     },
     "metadata": {},
     "output_type": "display_data"
    },
    {
     "data": {
      "text/plain": [
       "array([15.038223, 15.032286, 15.033319, ..., 11.188371, 11.187169,\n",
       "       11.188515])"
      ]
     },
     "metadata": {},
     "output_type": "display_data"
    },
    {
     "data": {
      "text/plain": [
       "array([0.375868  , 0.39383192, 0.37661847, ..., 4.69141426, 4.65910694,\n",
       "       4.645142  ])"
      ]
     },
     "metadata": {},
     "output_type": "display_data"
    },
    {
     "data": {
      "text/plain": [
       "992.969696969697"
      ]
     },
     "metadata": {},
     "output_type": "display_data"
    },
    {
     "data": {
      "text/plain": [
       "'fft_window: 496'"
      ]
     },
     "metadata": {},
     "output_type": "display_data"
    },
    {
     "data": {
      "text/plain": [
       "'fft_resolution: 2.0019550342130987'"
      ]
     },
     "metadata": {},
     "output_type": "display_data"
    },
    {
     "data": {
      "text/plain": [
       "'time: (111, 496)'"
      ]
     },
     "metadata": {},
     "output_type": "display_data"
    },
    {
     "data": {
      "text/plain": [
       "'emg_dat: (111, 496)'"
      ]
     },
     "metadata": {},
     "output_type": "display_data"
    },
    {
     "data": {
      "text/plain": [
       "'grip_dat: (111, 496)'"
      ]
     },
     "metadata": {},
     "output_type": "display_data"
    },
    {
     "data": {
      "text/plain": [
       "'emg_fft: (111, 249)'"
      ]
     },
     "metadata": {},
     "output_type": "display_data"
    },
    {
     "name": "stdout",
     "output_type": "stream",
     "text": [
      "fft_dim: 249\n"
     ]
    },
    {
     "data": {
      "text/plain": [
       "48944"
      ]
     },
     "metadata": {},
     "output_type": "display_data"
    },
    {
     "data": {
      "text/plain": [
       "array([1.67360936e+09, 1.67360936e+09, 1.67360936e+09, ...,\n",
       "       1.67360941e+09, 1.67360941e+09, 1.67360941e+09])"
      ]
     },
     "metadata": {},
     "output_type": "display_data"
    },
    {
     "data": {
      "text/plain": [
       "array([10.40888 , 10.405058, 10.404385, ...,  8.234533,  8.23285 ,\n",
       "        8.231696])"
      ]
     },
     "metadata": {},
     "output_type": "display_data"
    },
    {
     "data": {
      "text/plain": [
       "array([1.931618  , 1.94983636, 1.96704553, ..., 8.87147525, 8.86740528,\n",
       "       8.86333145])"
      ]
     },
     "metadata": {},
     "output_type": "display_data"
    },
    {
     "data": {
      "text/plain": [
       "992.969696969697"
      ]
     },
     "metadata": {},
     "output_type": "display_data"
    },
    {
     "data": {
      "text/plain": [
       "'fft_window: 496'"
      ]
     },
     "metadata": {},
     "output_type": "display_data"
    },
    {
     "data": {
      "text/plain": [
       "'fft_resolution: 2.0019550342130987'"
      ]
     },
     "metadata": {},
     "output_type": "display_data"
    },
    {
     "data": {
      "text/plain": [
       "'time: (98, 496)'"
      ]
     },
     "metadata": {},
     "output_type": "display_data"
    },
    {
     "data": {
      "text/plain": [
       "'emg_dat: (98, 496)'"
      ]
     },
     "metadata": {},
     "output_type": "display_data"
    },
    {
     "data": {
      "text/plain": [
       "'grip_dat: (98, 496)'"
      ]
     },
     "metadata": {},
     "output_type": "display_data"
    },
    {
     "data": {
      "text/plain": [
       "'emg_fft: (98, 249)'"
      ]
     },
     "metadata": {},
     "output_type": "display_data"
    },
    {
     "name": "stdout",
     "output_type": "stream",
     "text": [
      "fft_dim: 249\n"
     ]
    },
    {
     "data": {
      "text/plain": [
       "54303"
      ]
     },
     "metadata": {},
     "output_type": "display_data"
    },
    {
     "data": {
      "text/plain": [
       "array([1.67360946e+09, 1.67360946e+09, 1.67360946e+09, ...,\n",
       "       1.67360951e+09, 1.67360951e+09, 1.67360951e+09])"
      ]
     },
     "metadata": {},
     "output_type": "display_data"
    },
    {
     "data": {
      "text/plain": [
       "array([8.104955, 8.106157, 8.105484, ..., 8.403058, 8.400245, 8.399091])"
      ]
     },
     "metadata": {},
     "output_type": "display_data"
    },
    {
     "data": {
      "text/plain": [
       "array([1.099472  , 1.117561  , 1.11806143, ..., 1.9289757 , 1.92779049,\n",
       "       1.92660528])"
      ]
     },
     "metadata": {},
     "output_type": "display_data"
    },
    {
     "data": {
      "text/plain": [
       "992.969696969697"
      ]
     },
     "metadata": {},
     "output_type": "display_data"
    },
    {
     "data": {
      "text/plain": [
       "'fft_window: 496'"
      ]
     },
     "metadata": {},
     "output_type": "display_data"
    },
    {
     "data": {
      "text/plain": [
       "'fft_resolution: 2.0019550342130987'"
      ]
     },
     "metadata": {},
     "output_type": "display_data"
    },
    {
     "data": {
      "text/plain": [
       "'time: (109, 496)'"
      ]
     },
     "metadata": {},
     "output_type": "display_data"
    },
    {
     "data": {
      "text/plain": [
       "'emg_dat: (109, 496)'"
      ]
     },
     "metadata": {},
     "output_type": "display_data"
    },
    {
     "data": {
      "text/plain": [
       "'grip_dat: (109, 496)'"
      ]
     },
     "metadata": {},
     "output_type": "display_data"
    },
    {
     "data": {
      "text/plain": [
       "'emg_fft: (109, 249)'"
      ]
     },
     "metadata": {},
     "output_type": "display_data"
    },
    {
     "name": "stdout",
     "output_type": "stream",
     "text": [
      "fft_dim: 249\n"
     ]
    },
    {
     "data": {
      "text/plain": [
       "33844"
      ]
     },
     "metadata": {},
     "output_type": "display_data"
    },
    {
     "data": {
      "text/plain": [
       "array([1.67092844e+09, 1.67092844e+09, 1.67092844e+09, ...,\n",
       "       1.67092847e+09, 1.67092847e+09, 1.67092847e+09])"
      ]
     },
     "metadata": {},
     "output_type": "display_data"
    },
    {
     "data": {
      "text/plain": [
       "array([ 0.11854 ,  0.11842 ,  0.118227, ..., -0.455789, -0.450668,\n",
       "       -0.443817])"
      ]
     },
     "metadata": {},
     "output_type": "display_data"
    },
    {
     "data": {
      "text/plain": [
       "array([-0.551216  , -0.551216  , -0.551216  , ...,  1.74306019,\n",
       "        1.67663874,  1.72501325])"
      ]
     },
     "metadata": {},
     "output_type": "display_data"
    },
    {
     "data": {
      "text/plain": [
       "992.969696969697"
      ]
     },
     "metadata": {},
     "output_type": "display_data"
    },
    {
     "data": {
      "text/plain": [
       "'fft_window: 496'"
      ]
     },
     "metadata": {},
     "output_type": "display_data"
    },
    {
     "data": {
      "text/plain": [
       "'fft_resolution: 2.0019550342130987'"
      ]
     },
     "metadata": {},
     "output_type": "display_data"
    },
    {
     "data": {
      "text/plain": [
       "'time: (68, 496)'"
      ]
     },
     "metadata": {},
     "output_type": "display_data"
    },
    {
     "data": {
      "text/plain": [
       "'emg_dat: (68, 496)'"
      ]
     },
     "metadata": {},
     "output_type": "display_data"
    },
    {
     "data": {
      "text/plain": [
       "'grip_dat: (68, 496)'"
      ]
     },
     "metadata": {},
     "output_type": "display_data"
    },
    {
     "data": {
      "text/plain": [
       "'emg_fft: (68, 249)'"
      ]
     },
     "metadata": {},
     "output_type": "display_data"
    },
    {
     "name": "stdout",
     "output_type": "stream",
     "text": [
      "fft_dim: 249\n"
     ]
    },
    {
     "data": {
      "text/plain": [
       "32322"
      ]
     },
     "metadata": {},
     "output_type": "display_data"
    },
    {
     "data": {
      "text/plain": [
       "array([1.67092911e+09, 1.67092911e+09, 1.67092911e+09, ...,\n",
       "       1.67092915e+09, 1.67092915e+09, 1.67092915e+09])"
      ]
     },
     "metadata": {},
     "output_type": "display_data"
    },
    {
     "data": {
      "text/plain": [
       "array([2.034898, 2.02884 , 2.023527, ..., 2.220972, 2.223424, 2.229506])"
      ]
     },
     "metadata": {},
     "output_type": "display_data"
    },
    {
     "data": {
      "text/plain": [
       "array([1.499179  , 1.49942053, 1.535357  , ..., 2.457957  , 2.42327097,\n",
       "       2.43925123])"
      ]
     },
     "metadata": {},
     "output_type": "display_data"
    },
    {
     "data": {
      "text/plain": [
       "992.969696969697"
      ]
     },
     "metadata": {},
     "output_type": "display_data"
    },
    {
     "data": {
      "text/plain": [
       "'fft_window: 496'"
      ]
     },
     "metadata": {},
     "output_type": "display_data"
    },
    {
     "data": {
      "text/plain": [
       "'fft_resolution: 2.0019550342130987'"
      ]
     },
     "metadata": {},
     "output_type": "display_data"
    },
    {
     "data": {
      "text/plain": [
       "'time: (65, 496)'"
      ]
     },
     "metadata": {},
     "output_type": "display_data"
    },
    {
     "data": {
      "text/plain": [
       "'emg_dat: (65, 496)'"
      ]
     },
     "metadata": {},
     "output_type": "display_data"
    },
    {
     "data": {
      "text/plain": [
       "'grip_dat: (65, 496)'"
      ]
     },
     "metadata": {},
     "output_type": "display_data"
    },
    {
     "data": {
      "text/plain": [
       "'emg_fft: (65, 249)'"
      ]
     },
     "metadata": {},
     "output_type": "display_data"
    },
    {
     "name": "stdout",
     "output_type": "stream",
     "text": [
      "fft_dim: 249\n"
     ]
    },
    {
     "data": {
      "text/plain": [
       "22371"
      ]
     },
     "metadata": {},
     "output_type": "display_data"
    },
    {
     "data": {
      "text/plain": [
       "array([1.67092975e+09, 1.67092975e+09, 1.67092975e+09, ...,\n",
       "       1.67092977e+09, 1.67092977e+09, 1.67092977e+09])"
      ]
     },
     "metadata": {},
     "output_type": "display_data"
    },
    {
     "data": {
      "text/plain": [
       "array([1.038091, 1.038788, 1.034413, ..., 1.252821, 1.249552, 1.250561])"
      ]
     },
     "metadata": {},
     "output_type": "display_data"
    },
    {
     "data": {
      "text/plain": [
       "array([2.823103  , 2.78681717, 2.768836  , ..., 3.51342469, 3.51799135,\n",
       "       3.52255694])"
      ]
     },
     "metadata": {},
     "output_type": "display_data"
    },
    {
     "data": {
      "text/plain": [
       "992.969696969697"
      ]
     },
     "metadata": {},
     "output_type": "display_data"
    },
    {
     "data": {
      "text/plain": [
       "'fft_window: 496'"
      ]
     },
     "metadata": {},
     "output_type": "display_data"
    },
    {
     "data": {
      "text/plain": [
       "'fft_resolution: 2.0019550342130987'"
      ]
     },
     "metadata": {},
     "output_type": "display_data"
    },
    {
     "data": {
      "text/plain": [
       "'time: (45, 496)'"
      ]
     },
     "metadata": {},
     "output_type": "display_data"
    },
    {
     "data": {
      "text/plain": [
       "'emg_dat: (45, 496)'"
      ]
     },
     "metadata": {},
     "output_type": "display_data"
    },
    {
     "data": {
      "text/plain": [
       "'grip_dat: (45, 496)'"
      ]
     },
     "metadata": {},
     "output_type": "display_data"
    },
    {
     "data": {
      "text/plain": [
       "'emg_fft: (45, 249)'"
      ]
     },
     "metadata": {},
     "output_type": "display_data"
    },
    {
     "name": "stdout",
     "output_type": "stream",
     "text": [
      "fft_dim: 249\n"
     ]
    },
    {
     "data": {
      "text/plain": [
       "31285"
      ]
     },
     "metadata": {},
     "output_type": "display_data"
    },
    {
     "data": {
      "text/plain": [
       "array([1.67093003e+09, 1.67093003e+09, 1.67093003e+09, ...,\n",
       "       1.67093006e+09, 1.67093006e+09, 1.67093006e+09])"
      ]
     },
     "metadata": {},
     "output_type": "display_data"
    },
    {
     "data": {
      "text/plain": [
       "array([-7.640906, -7.600037, -7.567269, ..., -7.272869, -7.284553,\n",
       "       -7.28061 ])"
      ]
     },
     "metadata": {},
     "output_type": "display_data"
    },
    {
     "data": {
      "text/plain": [
       "array([-0.179862  , -0.1440646 , -0.19779573, ...,  0.706559  ,\n",
       "        0.70485965,  0.68847   ])"
      ]
     },
     "metadata": {},
     "output_type": "display_data"
    },
    {
     "data": {
      "text/plain": [
       "992.969696969697"
      ]
     },
     "metadata": {},
     "output_type": "display_data"
    },
    {
     "data": {
      "text/plain": [
       "'fft_window: 496'"
      ]
     },
     "metadata": {},
     "output_type": "display_data"
    },
    {
     "data": {
      "text/plain": [
       "'fft_resolution: 2.0019550342130987'"
      ]
     },
     "metadata": {},
     "output_type": "display_data"
    },
    {
     "data": {
      "text/plain": [
       "'time: (63, 496)'"
      ]
     },
     "metadata": {},
     "output_type": "display_data"
    },
    {
     "data": {
      "text/plain": [
       "'emg_dat: (63, 496)'"
      ]
     },
     "metadata": {},
     "output_type": "display_data"
    },
    {
     "data": {
      "text/plain": [
       "'grip_dat: (63, 496)'"
      ]
     },
     "metadata": {},
     "output_type": "display_data"
    },
    {
     "data": {
      "text/plain": [
       "'emg_fft: (63, 249)'"
      ]
     },
     "metadata": {},
     "output_type": "display_data"
    },
    {
     "name": "stdout",
     "output_type": "stream",
     "text": [
      "fft_dim: 249\n"
     ]
    },
    {
     "data": {
      "text/plain": [
       "26542"
      ]
     },
     "metadata": {},
     "output_type": "display_data"
    },
    {
     "data": {
      "text/plain": [
       "array([1.67093038e+09, 1.67093038e+09, 1.67093038e+09, ...,\n",
       "       1.67093040e+09, 1.67093040e+09, 1.67093040e+09])"
      ]
     },
     "metadata": {},
     "output_type": "display_data"
    },
    {
     "data": {
      "text/plain": [
       "array([-10.223461, -10.223942, -10.220456, ..., -10.10547 , -10.092368,\n",
       "       -10.084555])"
      ]
     },
     "metadata": {},
     "output_type": "display_data"
    },
    {
     "data": {
      "text/plain": [
       "array([0.507563  , 0.47151008, 0.50046882, ..., 1.18773874, 1.16952034,\n",
       "       1.16633551])"
      ]
     },
     "metadata": {},
     "output_type": "display_data"
    },
    {
     "data": {
      "text/plain": [
       "992.969696969697"
      ]
     },
     "metadata": {},
     "output_type": "display_data"
    },
    {
     "data": {
      "text/plain": [
       "'fft_window: 496'"
      ]
     },
     "metadata": {},
     "output_type": "display_data"
    },
    {
     "data": {
      "text/plain": [
       "'fft_resolution: 2.0019550342130987'"
      ]
     },
     "metadata": {},
     "output_type": "display_data"
    },
    {
     "data": {
      "text/plain": [
       "'time: (53, 496)'"
      ]
     },
     "metadata": {},
     "output_type": "display_data"
    },
    {
     "data": {
      "text/plain": [
       "'emg_dat: (53, 496)'"
      ]
     },
     "metadata": {},
     "output_type": "display_data"
    },
    {
     "data": {
      "text/plain": [
       "'grip_dat: (53, 496)'"
      ]
     },
     "metadata": {},
     "output_type": "display_data"
    },
    {
     "data": {
      "text/plain": [
       "'emg_fft: (53, 249)'"
      ]
     },
     "metadata": {},
     "output_type": "display_data"
    },
    {
     "name": "stdout",
     "output_type": "stream",
     "text": [
      "fft_dim: 249\n"
     ]
    },
    {
     "data": {
      "text/plain": [
       "29360"
      ]
     },
     "metadata": {},
     "output_type": "display_data"
    },
    {
     "data": {
      "text/plain": [
       "array([1.67093049e+09, 1.67093049e+09, 1.67093049e+09, ...,\n",
       "       1.67093052e+09, 1.67093052e+09, 1.67093052e+09])"
      ]
     },
     "metadata": {},
     "output_type": "display_data"
    },
    {
     "data": {
      "text/plain": [
       "array([-12.922084, -12.918839, -12.915064, ..., -16.311224, -16.309517,\n",
       "       -16.312811])"
      ]
     },
     "metadata": {},
     "output_type": "display_data"
    },
    {
     "data": {
      "text/plain": [
       "array([-0.903466  , -0.90419468, -0.90492337, ...,  1.82110808,\n",
       "        1.78854948,  1.77036894])"
      ]
     },
     "metadata": {},
     "output_type": "display_data"
    },
    {
     "data": {
      "text/plain": [
       "992.969696969697"
      ]
     },
     "metadata": {},
     "output_type": "display_data"
    },
    {
     "data": {
      "text/plain": [
       "'fft_window: 496'"
      ]
     },
     "metadata": {},
     "output_type": "display_data"
    },
    {
     "data": {
      "text/plain": [
       "'fft_resolution: 2.0019550342130987'"
      ]
     },
     "metadata": {},
     "output_type": "display_data"
    },
    {
     "data": {
      "text/plain": [
       "'time: (59, 496)'"
      ]
     },
     "metadata": {},
     "output_type": "display_data"
    },
    {
     "data": {
      "text/plain": [
       "'emg_dat: (59, 496)'"
      ]
     },
     "metadata": {},
     "output_type": "display_data"
    },
    {
     "data": {
      "text/plain": [
       "'grip_dat: (59, 496)'"
      ]
     },
     "metadata": {},
     "output_type": "display_data"
    },
    {
     "data": {
      "text/plain": [
       "'emg_fft: (59, 249)'"
      ]
     },
     "metadata": {},
     "output_type": "display_data"
    },
    {
     "name": "stdout",
     "output_type": "stream",
     "text": [
      "fft_dim: 249\n"
     ]
    },
    {
     "data": {
      "text/plain": [
       "33323"
      ]
     },
     "metadata": {},
     "output_type": "display_data"
    },
    {
     "data": {
      "text/plain": [
       "array([1.67361090e+09, 1.67361090e+09, 1.67361090e+09, ...,\n",
       "       1.67361093e+09, 1.67361093e+09, 1.67361093e+09])"
      ]
     },
     "metadata": {},
     "output_type": "display_data"
    },
    {
     "data": {
      "text/plain": [
       "array([0.403759, 0.401908, 0.399312, ..., 0.89534 , 0.868199, 0.852885])"
      ]
     },
     "metadata": {},
     "output_type": "display_data"
    },
    {
     "data": {
      "text/plain": [
       "array([1.587909  , 1.56967761, 1.551723  , ..., 0.303504  , 0.26793846,\n",
       "       0.267326  ])"
      ]
     },
     "metadata": {},
     "output_type": "display_data"
    },
    {
     "data": {
      "text/plain": [
       "992.969696969697"
      ]
     },
     "metadata": {},
     "output_type": "display_data"
    },
    {
     "data": {
      "text/plain": [
       "'fft_window: 496'"
      ]
     },
     "metadata": {},
     "output_type": "display_data"
    },
    {
     "data": {
      "text/plain": [
       "'fft_resolution: 2.0019550342130987'"
      ]
     },
     "metadata": {},
     "output_type": "display_data"
    },
    {
     "data": {
      "text/plain": [
       "'time: (67, 496)'"
      ]
     },
     "metadata": {},
     "output_type": "display_data"
    },
    {
     "data": {
      "text/plain": [
       "'emg_dat: (67, 496)'"
      ]
     },
     "metadata": {},
     "output_type": "display_data"
    },
    {
     "data": {
      "text/plain": [
       "'grip_dat: (67, 496)'"
      ]
     },
     "metadata": {},
     "output_type": "display_data"
    },
    {
     "data": {
      "text/plain": [
       "'emg_fft: (67, 249)'"
      ]
     },
     "metadata": {},
     "output_type": "display_data"
    },
    {
     "name": "stdout",
     "output_type": "stream",
     "text": [
      "fft_dim: 249\n"
     ]
    },
    {
     "data": {
      "text/plain": [
       "31113"
      ]
     },
     "metadata": {},
     "output_type": "display_data"
    },
    {
     "data": {
      "text/plain": [
       "array([1.67361097e+09, 1.67361097e+09, 1.67361097e+09, ...,\n",
       "       1.67361100e+09, 1.67361100e+09, 1.67361100e+09])"
      ]
     },
     "metadata": {},
     "output_type": "display_data"
    },
    {
     "data": {
      "text/plain": [
       "array([0.259396, 0.266175, 0.269565, ..., 0.185255, 0.180735, 0.17434 ])"
      ]
     },
     "metadata": {},
     "output_type": "display_data"
    },
    {
     "data": {
      "text/plain": [
       "array([ 1.678355  ,  1.71425627,  1.67808328, ..., -0.38934456,\n",
       "       -0.37112476, -0.40457039])"
      ]
     },
     "metadata": {},
     "output_type": "display_data"
    },
    {
     "data": {
      "text/plain": [
       "992.969696969697"
      ]
     },
     "metadata": {},
     "output_type": "display_data"
    },
    {
     "data": {
      "text/plain": [
       "'fft_window: 496'"
      ]
     },
     "metadata": {},
     "output_type": "display_data"
    },
    {
     "data": {
      "text/plain": [
       "'fft_resolution: 2.0019550342130987'"
      ]
     },
     "metadata": {},
     "output_type": "display_data"
    },
    {
     "data": {
      "text/plain": [
       "'time: (62, 496)'"
      ]
     },
     "metadata": {},
     "output_type": "display_data"
    },
    {
     "data": {
      "text/plain": [
       "'emg_dat: (62, 496)'"
      ]
     },
     "metadata": {},
     "output_type": "display_data"
    },
    {
     "data": {
      "text/plain": [
       "'grip_dat: (62, 496)'"
      ]
     },
     "metadata": {},
     "output_type": "display_data"
    },
    {
     "data": {
      "text/plain": [
       "'emg_fft: (62, 249)'"
      ]
     },
     "metadata": {},
     "output_type": "display_data"
    },
    {
     "name": "stdout",
     "output_type": "stream",
     "text": [
      "fft_dim: 249\n"
     ]
    },
    {
     "data": {
      "text/plain": [
       "38100"
      ]
     },
     "metadata": {},
     "output_type": "display_data"
    },
    {
     "data": {
      "text/plain": [
       "array([1.67361102e+09, 1.67361102e+09, 1.67361102e+09, ...,\n",
       "       1.67361106e+09, 1.67361106e+09, 1.67361106e+09])"
      ]
     },
     "metadata": {},
     "output_type": "display_data"
    },
    {
     "data": {
      "text/plain": [
       "array([-0.055391, -0.057459, -0.049285, ...,  0.230619,  0.226148,\n",
       "        0.218503])"
      ]
     },
     "metadata": {},
     "output_type": "display_data"
    },
    {
     "data": {
      "text/plain": [
       "array([-0.456278  , -0.52878071, -0.546731  , ..., -0.74026179,\n",
       "       -0.7396191 , -0.73897625])"
      ]
     },
     "metadata": {},
     "output_type": "display_data"
    },
    {
     "data": {
      "text/plain": [
       "992.969696969697"
      ]
     },
     "metadata": {},
     "output_type": "display_data"
    },
    {
     "data": {
      "text/plain": [
       "'fft_window: 496'"
      ]
     },
     "metadata": {},
     "output_type": "display_data"
    },
    {
     "data": {
      "text/plain": [
       "'fft_resolution: 2.0019550342130987'"
      ]
     },
     "metadata": {},
     "output_type": "display_data"
    },
    {
     "data": {
      "text/plain": [
       "'time: (76, 496)'"
      ]
     },
     "metadata": {},
     "output_type": "display_data"
    },
    {
     "data": {
      "text/plain": [
       "'emg_dat: (76, 496)'"
      ]
     },
     "metadata": {},
     "output_type": "display_data"
    },
    {
     "data": {
      "text/plain": [
       "'grip_dat: (76, 496)'"
      ]
     },
     "metadata": {},
     "output_type": "display_data"
    },
    {
     "data": {
      "text/plain": [
       "'emg_fft: (76, 249)'"
      ]
     },
     "metadata": {},
     "output_type": "display_data"
    },
    {
     "name": "stdout",
     "output_type": "stream",
     "text": [
      "fft_dim: 249\n"
     ]
    },
    {
     "data": {
      "text/plain": [
       "32839"
      ]
     },
     "metadata": {},
     "output_type": "display_data"
    },
    {
     "data": {
      "text/plain": [
       "array([1.67361112e+09, 1.67361112e+09, 1.67361112e+09, ...,\n",
       "       1.67361116e+09, 1.67361116e+09, 1.67361116e+09])"
      ]
     },
     "metadata": {},
     "output_type": "display_data"
    },
    {
     "data": {
      "text/plain": [
       "array([21.373459, 21.366152, 21.354755, ..., 20.838221, 20.834518,\n",
       "       20.83964 ])"
      ]
     },
     "metadata": {},
     "output_type": "display_data"
    },
    {
     "data": {
      "text/plain": [
       "array([ 0.683399  ,  0.70161308,  0.72059597, ..., -0.27412851,\n",
       "       -0.24140178, -0.3076403 ])"
      ]
     },
     "metadata": {},
     "output_type": "display_data"
    },
    {
     "data": {
      "text/plain": [
       "992.969696969697"
      ]
     },
     "metadata": {},
     "output_type": "display_data"
    },
    {
     "data": {
      "text/plain": [
       "'fft_window: 496'"
      ]
     },
     "metadata": {},
     "output_type": "display_data"
    },
    {
     "data": {
      "text/plain": [
       "'fft_resolution: 2.0019550342130987'"
      ]
     },
     "metadata": {},
     "output_type": "display_data"
    },
    {
     "data": {
      "text/plain": [
       "'time: (66, 496)'"
      ]
     },
     "metadata": {},
     "output_type": "display_data"
    },
    {
     "data": {
      "text/plain": [
       "'emg_dat: (66, 496)'"
      ]
     },
     "metadata": {},
     "output_type": "display_data"
    },
    {
     "data": {
      "text/plain": [
       "'grip_dat: (66, 496)'"
      ]
     },
     "metadata": {},
     "output_type": "display_data"
    },
    {
     "data": {
      "text/plain": [
       "'emg_fft: (66, 249)'"
      ]
     },
     "metadata": {},
     "output_type": "display_data"
    },
    {
     "name": "stdout",
     "output_type": "stream",
     "text": [
      "fft_dim: 249\n"
     ]
    },
    {
     "data": {
      "text/plain": [
       "38959"
      ]
     },
     "metadata": {},
     "output_type": "display_data"
    },
    {
     "data": {
      "text/plain": [
       "array([1.67361117e+09, 1.67361117e+09, 1.67361117e+09, ...,\n",
       "       1.67361121e+09, 1.67361121e+09, 1.67361121e+09])"
      ]
     },
     "metadata": {},
     "output_type": "display_data"
    },
    {
     "data": {
      "text/plain": [
       "array([20.45624 , 20.453331, 20.461241, ..., 18.557783, 18.555017,\n",
       "       18.548744])"
      ]
     },
     "metadata": {},
     "output_type": "display_data"
    },
    {
     "data": {
      "text/plain": [
       "array([ 1.370824  ,  1.388913  ,  1.38836093, ..., -0.52782314,\n",
       "       -0.47635964, -0.456817  ])"
      ]
     },
     "metadata": {},
     "output_type": "display_data"
    },
    {
     "data": {
      "text/plain": [
       "992.969696969697"
      ]
     },
     "metadata": {},
     "output_type": "display_data"
    },
    {
     "data": {
      "text/plain": [
       "'fft_window: 496'"
      ]
     },
     "metadata": {},
     "output_type": "display_data"
    },
    {
     "data": {
      "text/plain": [
       "'fft_resolution: 2.0019550342130987'"
      ]
     },
     "metadata": {},
     "output_type": "display_data"
    },
    {
     "data": {
      "text/plain": [
       "'time: (78, 496)'"
      ]
     },
     "metadata": {},
     "output_type": "display_data"
    },
    {
     "data": {
      "text/plain": [
       "'emg_dat: (78, 496)'"
      ]
     },
     "metadata": {},
     "output_type": "display_data"
    },
    {
     "data": {
      "text/plain": [
       "'grip_dat: (78, 496)'"
      ]
     },
     "metadata": {},
     "output_type": "display_data"
    },
    {
     "data": {
      "text/plain": [
       "'emg_fft: (78, 249)'"
      ]
     },
     "metadata": {},
     "output_type": "display_data"
    },
    {
     "name": "stdout",
     "output_type": "stream",
     "text": [
      "fft_dim: 249\n"
     ]
    },
    {
     "data": {
      "text/plain": [
       "43732"
      ]
     },
     "metadata": {},
     "output_type": "display_data"
    },
    {
     "data": {
      "text/plain": [
       "array([1.67361122e+09, 1.67361122e+09, 1.67361122e+09, ...,\n",
       "       1.67361126e+09, 1.67361126e+09, 1.67361126e+09])"
      ]
     },
     "metadata": {},
     "output_type": "display_data"
    },
    {
     "data": {
      "text/plain": [
       "array([18.075554, 18.067596, 18.060553, ..., 16.901463, 16.898792,\n",
       "       16.886412])"
      ]
     },
     "metadata": {},
     "output_type": "display_data"
    },
    {
     "data": {
      "text/plain": [
       "array([-0.492456  , -0.52811643, -0.45704123, ...,  0.28295886,\n",
       "        0.30026577,  0.26559481])"
      ]
     },
     "metadata": {},
     "output_type": "display_data"
    },
    {
     "data": {
      "text/plain": [
       "992.969696969697"
      ]
     },
     "metadata": {},
     "output_type": "display_data"
    },
    {
     "data": {
      "text/plain": [
       "'fft_window: 496'"
      ]
     },
     "metadata": {},
     "output_type": "display_data"
    },
    {
     "data": {
      "text/plain": [
       "'fft_resolution: 2.0019550342130987'"
      ]
     },
     "metadata": {},
     "output_type": "display_data"
    },
    {
     "data": {
      "text/plain": [
       "'time: (88, 496)'"
      ]
     },
     "metadata": {},
     "output_type": "display_data"
    },
    {
     "data": {
      "text/plain": [
       "'emg_dat: (88, 496)'"
      ]
     },
     "metadata": {},
     "output_type": "display_data"
    },
    {
     "data": {
      "text/plain": [
       "'grip_dat: (88, 496)'"
      ]
     },
     "metadata": {},
     "output_type": "display_data"
    },
    {
     "data": {
      "text/plain": [
       "'emg_fft: (88, 249)'"
      ]
     },
     "metadata": {},
     "output_type": "display_data"
    },
    {
     "name": "stdout",
     "output_type": "stream",
     "text": [
      "fft_dim: 249\n"
     ]
    },
    {
     "data": {
      "text/plain": [
       "25045"
      ]
     },
     "metadata": {},
     "output_type": "display_data"
    },
    {
     "data": {
      "text/plain": [
       "array([1.67361150e+09, 1.67361150e+09, 1.67361150e+09, ...,\n",
       "       1.67361153e+09, 1.67361153e+09, 1.67361153e+09])"
      ]
     },
     "metadata": {},
     "output_type": "display_data"
    },
    {
     "data": {
      "text/plain": [
       "array([12.836446, 12.831566, 12.826469, ..., 10.651738, 10.641809,\n",
       "       10.640463])"
      ]
     },
     "metadata": {},
     "output_type": "display_data"
    },
    {
     "data": {
      "text/plain": [
       "array([ 0.158783  ,  0.10490408,  0.15928344, ..., -0.33670218,\n",
       "       -0.329646  , -0.37480728])"
      ]
     },
     "metadata": {},
     "output_type": "display_data"
    },
    {
     "data": {
      "text/plain": [
       "992.969696969697"
      ]
     },
     "metadata": {},
     "output_type": "display_data"
    },
    {
     "data": {
      "text/plain": [
       "'fft_window: 496'"
      ]
     },
     "metadata": {},
     "output_type": "display_data"
    },
    {
     "data": {
      "text/plain": [
       "'fft_resolution: 2.0019550342130987'"
      ]
     },
     "metadata": {},
     "output_type": "display_data"
    },
    {
     "data": {
      "text/plain": [
       "'time: (50, 496)'"
      ]
     },
     "metadata": {},
     "output_type": "display_data"
    },
    {
     "data": {
      "text/plain": [
       "'emg_dat: (50, 496)'"
      ]
     },
     "metadata": {},
     "output_type": "display_data"
    },
    {
     "data": {
      "text/plain": [
       "'grip_dat: (50, 496)'"
      ]
     },
     "metadata": {},
     "output_type": "display_data"
    },
    {
     "data": {
      "text/plain": [
       "'emg_fft: (50, 249)'"
      ]
     },
     "metadata": {},
     "output_type": "display_data"
    },
    {
     "name": "stdout",
     "output_type": "stream",
     "text": [
      "fft_dim: 249\n"
     ]
    },
    {
     "data": {
      "text/plain": [
       "25980"
      ]
     },
     "metadata": {},
     "output_type": "display_data"
    },
    {
     "data": {
      "text/plain": [
       "array([1.67361155e+09, 1.67361155e+09, 1.67361155e+09, ...,\n",
       "       1.67361157e+09, 1.67361157e+09, 1.67361157e+09])"
      ]
     },
     "metadata": {},
     "output_type": "display_data"
    },
    {
     "data": {
      "text/plain": [
       "array([10.927339, 10.913178, 10.901062, ...,  9.017509,  9.020659,\n",
       "        9.022991])"
      ]
     },
     "metadata": {},
     "output_type": "display_data"
    },
    {
     "data": {
      "text/plain": [
       "array([-0.221104  , -0.29309271, -0.23893853, ...,  1.66706999,\n",
       "        1.62502079,  1.62729758])"
      ]
     },
     "metadata": {},
     "output_type": "display_data"
    },
    {
     "data": {
      "text/plain": [
       "992.969696969697"
      ]
     },
     "metadata": {},
     "output_type": "display_data"
    },
    {
     "data": {
      "text/plain": [
       "'fft_window: 496'"
      ]
     },
     "metadata": {},
     "output_type": "display_data"
    },
    {
     "data": {
      "text/plain": [
       "'fft_resolution: 2.0019550342130987'"
      ]
     },
     "metadata": {},
     "output_type": "display_data"
    },
    {
     "data": {
      "text/plain": [
       "'time: (52, 496)'"
      ]
     },
     "metadata": {},
     "output_type": "display_data"
    },
    {
     "data": {
      "text/plain": [
       "'emg_dat: (52, 496)'"
      ]
     },
     "metadata": {},
     "output_type": "display_data"
    },
    {
     "data": {
      "text/plain": [
       "'grip_dat: (52, 496)'"
      ]
     },
     "metadata": {},
     "output_type": "display_data"
    },
    {
     "data": {
      "text/plain": [
       "'emg_fft: (52, 249)'"
      ]
     },
     "metadata": {},
     "output_type": "display_data"
    },
    {
     "name": "stdout",
     "output_type": "stream",
     "text": [
      "fft_dim: 249\n"
     ]
    },
    {
     "data": {
      "text/plain": [
       "27668"
      ]
     },
     "metadata": {},
     "output_type": "display_data"
    },
    {
     "data": {
      "text/plain": [
       "array([1.67361158e+09, 1.67361158e+09, 1.67361158e+09, ...,\n",
       "       1.67361161e+09, 1.67361161e+09, 1.67361161e+09])"
      ]
     },
     "metadata": {},
     "output_type": "display_data"
    },
    {
     "data": {
      "text/plain": [
       "array([9.400428, 9.377517, 9.371627, ..., 6.2177  , 6.221402, 6.221691])"
      ]
     },
     "metadata": {},
     "output_type": "display_data"
    },
    {
     "data": {
      "text/plain": [
       "array([-0.365824  , -0.40188157, -0.38441344, ...,  1.04042612,\n",
       "        1.01154092,  1.03239519])"
      ]
     },
     "metadata": {},
     "output_type": "display_data"
    },
    {
     "data": {
      "text/plain": [
       "992.969696969697"
      ]
     },
     "metadata": {},
     "output_type": "display_data"
    },
    {
     "data": {
      "text/plain": [
       "'fft_window: 496'"
      ]
     },
     "metadata": {},
     "output_type": "display_data"
    },
    {
     "data": {
      "text/plain": [
       "'fft_resolution: 2.0019550342130987'"
      ]
     },
     "metadata": {},
     "output_type": "display_data"
    },
    {
     "data": {
      "text/plain": [
       "'time: (55, 496)'"
      ]
     },
     "metadata": {},
     "output_type": "display_data"
    },
    {
     "data": {
      "text/plain": [
       "'emg_dat: (55, 496)'"
      ]
     },
     "metadata": {},
     "output_type": "display_data"
    },
    {
     "data": {
      "text/plain": [
       "'grip_dat: (55, 496)'"
      ]
     },
     "metadata": {},
     "output_type": "display_data"
    },
    {
     "data": {
      "text/plain": [
       "'emg_fft: (55, 249)'"
      ]
     },
     "metadata": {},
     "output_type": "display_data"
    },
    {
     "name": "stdout",
     "output_type": "stream",
     "text": [
      "fft_dim: 249\n"
     ]
    },
    {
     "data": {
      "text/plain": [
       "21830"
      ]
     },
     "metadata": {},
     "output_type": "display_data"
    },
    {
     "data": {
      "text/plain": [
       "array([1.67361170e+09, 1.67361170e+09, 1.67361170e+09, ...,\n",
       "       1.67361172e+09, 1.67361172e+09, 1.67361172e+09])"
      ]
     },
     "metadata": {},
     "output_type": "display_data"
    },
    {
     "data": {
      "text/plain": [
       "array([-1.883554, -1.884588, -1.883747, ..., -2.705284, -2.702423,\n",
       "       -2.705428])"
      ]
     },
     "metadata": {},
     "output_type": "display_data"
    },
    {
     "data": {
      "text/plain": [
       "array([0.33969   , 0.4117959 , 0.37561784, ..., 0.4682025 , 0.46468774,\n",
       "       0.47605659])"
      ]
     },
     "metadata": {},
     "output_type": "display_data"
    },
    {
     "data": {
      "text/plain": [
       "992.969696969697"
      ]
     },
     "metadata": {},
     "output_type": "display_data"
    },
    {
     "data": {
      "text/plain": [
       "'fft_window: 496'"
      ]
     },
     "metadata": {},
     "output_type": "display_data"
    },
    {
     "data": {
      "text/plain": [
       "'fft_resolution: 2.0019550342130987'"
      ]
     },
     "metadata": {},
     "output_type": "display_data"
    },
    {
     "data": {
      "text/plain": [
       "'time: (44, 496)'"
      ]
     },
     "metadata": {},
     "output_type": "display_data"
    },
    {
     "data": {
      "text/plain": [
       "'emg_dat: (44, 496)'"
      ]
     },
     "metadata": {},
     "output_type": "display_data"
    },
    {
     "data": {
      "text/plain": [
       "'grip_dat: (44, 496)'"
      ]
     },
     "metadata": {},
     "output_type": "display_data"
    },
    {
     "data": {
      "text/plain": [
       "'emg_fft: (44, 249)'"
      ]
     },
     "metadata": {},
     "output_type": "display_data"
    },
    {
     "name": "stdout",
     "output_type": "stream",
     "text": [
      "fft_dim: 249\n"
     ]
    },
    {
     "data": {
      "text/plain": [
       "25325"
      ]
     },
     "metadata": {},
     "output_type": "display_data"
    },
    {
     "data": {
      "text/plain": [
       "array([1.67361173e+09, 1.67361173e+09, 1.67361173e+09, ...,\n",
       "       1.67361175e+09, 1.67361175e+09, 1.67361175e+09])"
      ]
     },
     "metadata": {},
     "output_type": "display_data"
    },
    {
     "data": {
      "text/plain": [
       "array([-1.028937, -1.025307, -1.016243, ..., -3.219944, -3.226243,\n",
       "       -3.234008])"
      ]
     },
     "metadata": {},
     "output_type": "display_data"
    },
    {
     "data": {
      "text/plain": [
       "array([0.213059  , 0.26733187, 0.26806055, ..., 0.83627977, 0.81306694,\n",
       "       0.79067757])"
      ]
     },
     "metadata": {},
     "output_type": "display_data"
    },
    {
     "data": {
      "text/plain": [
       "992.969696969697"
      ]
     },
     "metadata": {},
     "output_type": "display_data"
    },
    {
     "data": {
      "text/plain": [
       "'fft_window: 496'"
      ]
     },
     "metadata": {},
     "output_type": "display_data"
    },
    {
     "data": {
      "text/plain": [
       "'fft_resolution: 2.0019550342130987'"
      ]
     },
     "metadata": {},
     "output_type": "display_data"
    },
    {
     "data": {
      "text/plain": [
       "'time: (51, 496)'"
      ]
     },
     "metadata": {},
     "output_type": "display_data"
    },
    {
     "data": {
      "text/plain": [
       "'emg_dat: (51, 496)'"
      ]
     },
     "metadata": {},
     "output_type": "display_data"
    },
    {
     "data": {
      "text/plain": [
       "'grip_dat: (51, 496)'"
      ]
     },
     "metadata": {},
     "output_type": "display_data"
    },
    {
     "data": {
      "text/plain": [
       "'emg_fft: (51, 249)'"
      ]
     },
     "metadata": {},
     "output_type": "display_data"
    },
    {
     "name": "stdout",
     "output_type": "stream",
     "text": [
      "fft_dim: 249\n"
     ]
    },
    {
     "data": {
      "text/plain": [
       "23560"
      ]
     },
     "metadata": {},
     "output_type": "display_data"
    },
    {
     "data": {
      "text/plain": [
       "array([1.67361176e+09, 1.67361176e+09, 1.67361176e+09, ...,\n",
       "       1.67361179e+09, 1.67361179e+09, 1.67361179e+09])"
      ]
     },
     "metadata": {},
     "output_type": "display_data"
    },
    {
     "data": {
      "text/plain": [
       "array([-0.804542, -0.824833, -0.833872, ..., -3.836704, -3.842378,\n",
       "       -3.837978])"
      ]
     },
     "metadata": {},
     "output_type": "display_data"
    },
    {
     "data": {
      "text/plain": [
       "array([-0.130658  , -0.1126861 , -0.13090816, ...,  0.954751  ,\n",
       "        0.954751  ,  0.954751  ])"
      ]
     },
     "metadata": {},
     "output_type": "display_data"
    },
    {
     "data": {
      "text/plain": [
       "992.969696969697"
      ]
     },
     "metadata": {},
     "output_type": "display_data"
    },
    {
     "data": {
      "text/plain": [
       "'fft_window: 496'"
      ]
     },
     "metadata": {},
     "output_type": "display_data"
    },
    {
     "data": {
      "text/plain": [
       "'fft_resolution: 2.0019550342130987'"
      ]
     },
     "metadata": {},
     "output_type": "display_data"
    },
    {
     "data": {
      "text/plain": [
       "'time: (47, 496)'"
      ]
     },
     "metadata": {},
     "output_type": "display_data"
    },
    {
     "data": {
      "text/plain": [
       "'emg_dat: (47, 496)'"
      ]
     },
     "metadata": {},
     "output_type": "display_data"
    },
    {
     "data": {
      "text/plain": [
       "'grip_dat: (47, 496)'"
      ]
     },
     "metadata": {},
     "output_type": "display_data"
    },
    {
     "data": {
      "text/plain": [
       "'emg_fft: (47, 249)'"
      ]
     },
     "metadata": {},
     "output_type": "display_data"
    },
    {
     "name": "stdout",
     "output_type": "stream",
     "text": [
      "fft_dim: 249\n"
     ]
    },
    {
     "data": {
      "text/plain": [
       "34264"
      ]
     },
     "metadata": {},
     "output_type": "display_data"
    },
    {
     "data": {
      "text/plain": [
       "array([1.67360574e+09, 1.67360574e+09, 1.67360574e+09, ...,\n",
       "       1.67360577e+09, 1.67360577e+09, 1.67360577e+09])"
      ]
     },
     "metadata": {},
     "output_type": "display_data"
    },
    {
     "data": {
      "text/plain": [
       "array([5.591796, 5.593791, 5.597806, ..., 5.679087, 5.685506, 5.680986])"
      ]
     },
     "metadata": {},
     "output_type": "display_data"
    },
    {
     "data": {
      "text/plain": [
       "array([-0.347735  , -0.347735  , -0.34823532, ..., -0.56482   ,\n",
       "       -0.58594957, -0.55824257])"
      ]
     },
     "metadata": {},
     "output_type": "display_data"
    },
    {
     "data": {
      "text/plain": [
       "992.969696969697"
      ]
     },
     "metadata": {},
     "output_type": "display_data"
    },
    {
     "data": {
      "text/plain": [
       "'fft_window: 496'"
      ]
     },
     "metadata": {},
     "output_type": "display_data"
    },
    {
     "data": {
      "text/plain": [
       "'fft_resolution: 2.0019550342130987'"
      ]
     },
     "metadata": {},
     "output_type": "display_data"
    },
    {
     "data": {
      "text/plain": [
       "'time: (69, 496)'"
      ]
     },
     "metadata": {},
     "output_type": "display_data"
    },
    {
     "data": {
      "text/plain": [
       "'emg_dat: (69, 496)'"
      ]
     },
     "metadata": {},
     "output_type": "display_data"
    },
    {
     "data": {
      "text/plain": [
       "'grip_dat: (69, 496)'"
      ]
     },
     "metadata": {},
     "output_type": "display_data"
    },
    {
     "data": {
      "text/plain": [
       "'emg_fft: (69, 249)'"
      ]
     },
     "metadata": {},
     "output_type": "display_data"
    },
    {
     "name": "stdout",
     "output_type": "stream",
     "text": [
      "fft_dim: 249\n"
     ]
    },
    {
     "data": {
      "text/plain": [
       "29872"
      ]
     },
     "metadata": {},
     "output_type": "display_data"
    },
    {
     "data": {
      "text/plain": [
       "array([1.67360580e+09, 1.67360580e+09, 1.67360580e+09, ...,\n",
       "       1.67360583e+09, 1.67360583e+09, 1.67360583e+09])"
      ]
     },
     "metadata": {},
     "output_type": "display_data"
    },
    {
     "data": {
      "text/plain": [
       "array([5.598047, 5.612711, 5.616486, ..., 5.138968, 5.138223, 5.138127])"
      ]
     },
     "metadata": {},
     "output_type": "display_data"
    },
    {
     "data": {
      "text/plain": [
       "array([-0.709541  , -0.709541  , -0.70898881, ...,  2.29968461,\n",
       "        2.32578585,  2.329602  ])"
      ]
     },
     "metadata": {},
     "output_type": "display_data"
    },
    {
     "data": {
      "text/plain": [
       "992.969696969697"
      ]
     },
     "metadata": {},
     "output_type": "display_data"
    },
    {
     "data": {
      "text/plain": [
       "'fft_window: 496'"
      ]
     },
     "metadata": {},
     "output_type": "display_data"
    },
    {
     "data": {
      "text/plain": [
       "'fft_resolution: 2.0019550342130987'"
      ]
     },
     "metadata": {},
     "output_type": "display_data"
    },
    {
     "data": {
      "text/plain": [
       "'time: (60, 496)'"
      ]
     },
     "metadata": {},
     "output_type": "display_data"
    },
    {
     "data": {
      "text/plain": [
       "'emg_dat: (60, 496)'"
      ]
     },
     "metadata": {},
     "output_type": "display_data"
    },
    {
     "data": {
      "text/plain": [
       "'grip_dat: (60, 496)'"
      ]
     },
     "metadata": {},
     "output_type": "display_data"
    },
    {
     "data": {
      "text/plain": [
       "'emg_fft: (60, 249)'"
      ]
     },
     "metadata": {},
     "output_type": "display_data"
    },
    {
     "name": "stdout",
     "output_type": "stream",
     "text": [
      "fft_dim: 249\n"
     ]
    },
    {
     "data": {
      "text/plain": [
       "25795"
      ]
     },
     "metadata": {},
     "output_type": "display_data"
    },
    {
     "data": {
      "text/plain": [
       "array([1.67360593e+09, 1.67360593e+09, 1.67360593e+09, ...,\n",
       "       1.67360596e+09, 1.67360596e+09, 1.67360596e+09])"
      ]
     },
     "metadata": {},
     "output_type": "display_data"
    },
    {
     "data": {
      "text/plain": [
       "array([5.088324, 5.088708, 5.086737, ..., 5.010456, 5.006081, 5.006177])"
      ]
     },
     "metadata": {},
     "output_type": "display_data"
    },
    {
     "data": {
      "text/plain": [
       "array([-0.655266  , -0.65513661, -0.63711891, ...,  4.56802596,\n",
       "        4.55371522,  4.5394011 ])"
      ]
     },
     "metadata": {},
     "output_type": "display_data"
    },
    {
     "data": {
      "text/plain": [
       "992.969696969697"
      ]
     },
     "metadata": {},
     "output_type": "display_data"
    },
    {
     "data": {
      "text/plain": [
       "'fft_window: 496'"
      ]
     },
     "metadata": {},
     "output_type": "display_data"
    },
    {
     "data": {
      "text/plain": [
       "'fft_resolution: 2.0019550342130987'"
      ]
     },
     "metadata": {},
     "output_type": "display_data"
    },
    {
     "data": {
      "text/plain": [
       "'time: (52, 496)'"
      ]
     },
     "metadata": {},
     "output_type": "display_data"
    },
    {
     "data": {
      "text/plain": [
       "'emg_dat: (52, 496)'"
      ]
     },
     "metadata": {},
     "output_type": "display_data"
    },
    {
     "data": {
      "text/plain": [
       "'grip_dat: (52, 496)'"
      ]
     },
     "metadata": {},
     "output_type": "display_data"
    },
    {
     "data": {
      "text/plain": [
       "'emg_fft: (52, 249)'"
      ]
     },
     "metadata": {},
     "output_type": "display_data"
    },
    {
     "name": "stdout",
     "output_type": "stream",
     "text": [
      "fft_dim: 249\n"
     ]
    },
    {
     "data": {
      "text/plain": [
       "24697"
      ]
     },
     "metadata": {},
     "output_type": "display_data"
    },
    {
     "data": {
      "text/plain": [
       "array([1.67360627e+09, 1.67360627e+09, 1.67360627e+09, ...,\n",
       "       1.67360631e+09, 1.67360631e+09, 1.67360631e+09])"
      ]
     },
     "metadata": {},
     "output_type": "display_data"
    },
    {
     "data": {
      "text/plain": [
       "array([-0.334189, -0.332603, -0.32842 , ..., -0.486462, -0.483289,\n",
       "       -0.477279])"
      ]
     },
     "metadata": {},
     "output_type": "display_data"
    },
    {
     "data": {
      "text/plain": [
       "array([-0.673355  , -0.61883789, -0.58390965, ...,  2.75627891,\n",
       "        2.74717182,  2.73806258])"
      ]
     },
     "metadata": {},
     "output_type": "display_data"
    },
    {
     "data": {
      "text/plain": [
       "992.969696969697"
      ]
     },
     "metadata": {},
     "output_type": "display_data"
    },
    {
     "data": {
      "text/plain": [
       "'fft_window: 496'"
      ]
     },
     "metadata": {},
     "output_type": "display_data"
    },
    {
     "data": {
      "text/plain": [
       "'fft_resolution: 2.0019550342130987'"
      ]
     },
     "metadata": {},
     "output_type": "display_data"
    },
    {
     "data": {
      "text/plain": [
       "'time: (49, 496)'"
      ]
     },
     "metadata": {},
     "output_type": "display_data"
    },
    {
     "data": {
      "text/plain": [
       "'emg_dat: (49, 496)'"
      ]
     },
     "metadata": {},
     "output_type": "display_data"
    },
    {
     "data": {
      "text/plain": [
       "'grip_dat: (49, 496)'"
      ]
     },
     "metadata": {},
     "output_type": "display_data"
    },
    {
     "data": {
      "text/plain": [
       "'emg_fft: (49, 249)'"
      ]
     },
     "metadata": {},
     "output_type": "display_data"
    },
    {
     "name": "stdout",
     "output_type": "stream",
     "text": [
      "fft_dim: 249\n"
     ]
    },
    {
     "data": {
      "text/plain": [
       "34169"
      ]
     },
     "metadata": {},
     "output_type": "display_data"
    },
    {
     "data": {
      "text/plain": [
       "array([1.67360632e+09, 1.67360632e+09, 1.67360632e+09, ...,\n",
       "       1.67360636e+09, 1.67360636e+09, 1.67360636e+09])"
      ]
     },
     "metadata": {},
     "output_type": "display_data"
    },
    {
     "data": {
      "text/plain": [
       "array([-0.506392, -0.506392, -0.507425, ..., -0.29457 , -0.312072,\n",
       "       -0.312793])"
      ]
     },
     "metadata": {},
     "output_type": "display_data"
    },
    {
     "data": {
      "text/plain": [
       "array([-0.492456  , -0.49217134, -0.45654966, ...,  2.65240148,\n",
       "        2.64637063,  2.64034548])"
      ]
     },
     "metadata": {},
     "output_type": "display_data"
    },
    {
     "data": {
      "text/plain": [
       "992.969696969697"
      ]
     },
     "metadata": {},
     "output_type": "display_data"
    },
    {
     "data": {
      "text/plain": [
       "'fft_window: 496'"
      ]
     },
     "metadata": {},
     "output_type": "display_data"
    },
    {
     "data": {
      "text/plain": [
       "'fft_resolution: 2.0019550342130987'"
      ]
     },
     "metadata": {},
     "output_type": "display_data"
    },
    {
     "data": {
      "text/plain": [
       "'time: (68, 496)'"
      ]
     },
     "metadata": {},
     "output_type": "display_data"
    },
    {
     "data": {
      "text/plain": [
       "'emg_dat: (68, 496)'"
      ]
     },
     "metadata": {},
     "output_type": "display_data"
    },
    {
     "data": {
      "text/plain": [
       "'grip_dat: (68, 496)'"
      ]
     },
     "metadata": {},
     "output_type": "display_data"
    },
    {
     "data": {
      "text/plain": [
       "'emg_fft: (68, 249)'"
      ]
     },
     "metadata": {},
     "output_type": "display_data"
    },
    {
     "name": "stdout",
     "output_type": "stream",
     "text": [
      "fft_dim: 249\n"
     ]
    },
    {
     "data": {
      "text/plain": [
       "33776"
      ]
     },
     "metadata": {},
     "output_type": "display_data"
    },
    {
     "data": {
      "text/plain": [
       "array([1.67360636e+09, 1.67360636e+09, 1.67360636e+09, ...,\n",
       "       1.67360640e+09, 1.67360640e+09, 1.67360640e+09])"
      ]
     },
     "metadata": {},
     "output_type": "display_data"
    },
    {
     "data": {
      "text/plain": [
       "array([-0.824881, -0.831901, -0.836853, ..., -0.720304, -0.72343 ,\n",
       "       -0.72843 ])"
      ]
     },
     "metadata": {},
     "output_type": "display_data"
    },
    {
     "data": {
      "text/plain": [
       "array([-0.56482   , -0.510545  , -0.51105405, ...,  3.01612812,\n",
       "        2.99988778,  2.98364744])"
      ]
     },
     "metadata": {},
     "output_type": "display_data"
    },
    {
     "data": {
      "text/plain": [
       "992.969696969697"
      ]
     },
     "metadata": {},
     "output_type": "display_data"
    },
    {
     "data": {
      "text/plain": [
       "'fft_window: 496'"
      ]
     },
     "metadata": {},
     "output_type": "display_data"
    },
    {
     "data": {
      "text/plain": [
       "'fft_resolution: 2.0019550342130987'"
      ]
     },
     "metadata": {},
     "output_type": "display_data"
    },
    {
     "data": {
      "text/plain": [
       "'time: (68, 496)'"
      ]
     },
     "metadata": {},
     "output_type": "display_data"
    },
    {
     "data": {
      "text/plain": [
       "'emg_dat: (68, 496)'"
      ]
     },
     "metadata": {},
     "output_type": "display_data"
    },
    {
     "data": {
      "text/plain": [
       "'grip_dat: (68, 496)'"
      ]
     },
     "metadata": {},
     "output_type": "display_data"
    },
    {
     "data": {
      "text/plain": [
       "'emg_fft: (68, 249)'"
      ]
     },
     "metadata": {},
     "output_type": "display_data"
    },
    {
     "name": "stdout",
     "output_type": "stream",
     "text": [
      "fft_dim: 249\n"
     ]
    },
    {
     "data": {
      "text/plain": [
       "31670"
      ]
     },
     "metadata": {},
     "output_type": "display_data"
    },
    {
     "data": {
      "text/plain": [
       "array([1.67092521e+09, 1.67092521e+09, 1.67092521e+09, ...,\n",
       "       1.67092524e+09, 1.67092524e+09, 1.67092524e+09])"
      ]
     },
     "metadata": {},
     "output_type": "display_data"
    },
    {
     "data": {
      "text/plain": [
       "array([3.457826, 3.451984, 3.45333 , ..., 3.722512, 3.718281, 3.706309])"
      ]
     },
     "metadata": {},
     "output_type": "display_data"
    },
    {
     "data": {
      "text/plain": [
       "array([-0.959628  , -1.05021136, -1.068171  , ...,  0.17712838,\n",
       "        0.17257469,  0.16801993])"
      ]
     },
     "metadata": {},
     "output_type": "display_data"
    },
    {
     "data": {
      "text/plain": [
       "992.969696969697"
      ]
     },
     "metadata": {},
     "output_type": "display_data"
    },
    {
     "data": {
      "text/plain": [
       "'fft_window: 496'"
      ]
     },
     "metadata": {},
     "output_type": "display_data"
    },
    {
     "data": {
      "text/plain": [
       "'fft_resolution: 2.0019550342130987'"
      ]
     },
     "metadata": {},
     "output_type": "display_data"
    },
    {
     "data": {
      "text/plain": [
       "'time: (63, 496)'"
      ]
     },
     "metadata": {},
     "output_type": "display_data"
    },
    {
     "data": {
      "text/plain": [
       "'emg_dat: (63, 496)'"
      ]
     },
     "metadata": {},
     "output_type": "display_data"
    },
    {
     "data": {
      "text/plain": [
       "'grip_dat: (63, 496)'"
      ]
     },
     "metadata": {},
     "output_type": "display_data"
    },
    {
     "data": {
      "text/plain": [
       "'emg_fft: (63, 249)'"
      ]
     },
     "metadata": {},
     "output_type": "display_data"
    },
    {
     "name": "stdout",
     "output_type": "stream",
     "text": [
      "fft_dim: 249\n"
     ]
    },
    {
     "data": {
      "text/plain": [
       "33327"
      ]
     },
     "metadata": {},
     "output_type": "display_data"
    },
    {
     "data": {
      "text/plain": [
       "array([1.67092578e+09, 1.67092578e+09, 1.67092578e+09, ...,\n",
       "       1.67092581e+09, 1.67092581e+09, 1.67092581e+09])"
      ]
     },
     "metadata": {},
     "output_type": "display_data"
    },
    {
     "data": {
      "text/plain": [
       "array([3.476906, 3.496259, 3.515972, ..., 3.350309, 3.323888, 3.313551])"
      ]
     },
     "metadata": {},
     "output_type": "display_data"
    },
    {
     "data": {
      "text/plain": [
       "array([-0.543555  , -0.57936634, -0.525466  , ..., -0.05171005,\n",
       "       -0.00212704, -0.01616181])"
      ]
     },
     "metadata": {},
     "output_type": "display_data"
    },
    {
     "data": {
      "text/plain": [
       "992.969696969697"
      ]
     },
     "metadata": {},
     "output_type": "display_data"
    },
    {
     "data": {
      "text/plain": [
       "'fft_window: 496'"
      ]
     },
     "metadata": {},
     "output_type": "display_data"
    },
    {
     "data": {
      "text/plain": [
       "'fft_resolution: 2.0019550342130987'"
      ]
     },
     "metadata": {},
     "output_type": "display_data"
    },
    {
     "data": {
      "text/plain": [
       "'time: (67, 496)'"
      ]
     },
     "metadata": {},
     "output_type": "display_data"
    },
    {
     "data": {
      "text/plain": [
       "'emg_dat: (67, 496)'"
      ]
     },
     "metadata": {},
     "output_type": "display_data"
    },
    {
     "data": {
      "text/plain": [
       "'grip_dat: (67, 496)'"
      ]
     },
     "metadata": {},
     "output_type": "display_data"
    },
    {
     "data": {
      "text/plain": [
       "'emg_fft: (67, 249)'"
      ]
     },
     "metadata": {},
     "output_type": "display_data"
    },
    {
     "name": "stdout",
     "output_type": "stream",
     "text": [
      "fft_dim: 249\n"
     ]
    },
    {
     "data": {
      "text/plain": [
       "27676"
      ]
     },
     "metadata": {},
     "output_type": "display_data"
    },
    {
     "data": {
      "text/plain": [
       "array([1.67092617e+09, 1.67092617e+09, 1.67092617e+09, ...,\n",
       "       1.67092620e+09, 1.67092620e+09, 1.67092620e+09])"
      ]
     },
     "metadata": {},
     "output_type": "display_data"
    },
    {
     "data": {
      "text/plain": [
       "array([7.321878, 7.320821, 7.318489, ..., 7.212903, 7.213119, 7.210066])"
      ]
     },
     "metadata": {},
     "output_type": "display_data"
    },
    {
     "data": {
      "text/plain": [
       "array([-0.869183  , -0.83287987, -0.81567134, ...,  0.957919  ,\n",
       "        0.957919  ,  0.957919  ])"
      ]
     },
     "metadata": {},
     "output_type": "display_data"
    },
    {
     "data": {
      "text/plain": [
       "992.969696969697"
      ]
     },
     "metadata": {},
     "output_type": "display_data"
    },
    {
     "data": {
      "text/plain": [
       "'fft_window: 496'"
      ]
     },
     "metadata": {},
     "output_type": "display_data"
    },
    {
     "data": {
      "text/plain": [
       "'fft_resolution: 2.0019550342130987'"
      ]
     },
     "metadata": {},
     "output_type": "display_data"
    },
    {
     "data": {
      "text/plain": [
       "'time: (55, 496)'"
      ]
     },
     "metadata": {},
     "output_type": "display_data"
    },
    {
     "data": {
      "text/plain": [
       "'emg_dat: (55, 496)'"
      ]
     },
     "metadata": {},
     "output_type": "display_data"
    },
    {
     "data": {
      "text/plain": [
       "'grip_dat: (55, 496)'"
      ]
     },
     "metadata": {},
     "output_type": "display_data"
    },
    {
     "data": {
      "text/plain": [
       "'emg_fft: (55, 249)'"
      ]
     },
     "metadata": {},
     "output_type": "display_data"
    },
    {
     "name": "stdout",
     "output_type": "stream",
     "text": [
      "fft_dim: 249\n"
     ]
    },
    {
     "data": {
      "text/plain": [
       "32340"
      ]
     },
     "metadata": {},
     "output_type": "display_data"
    },
    {
     "data": {
      "text/plain": [
       "array([1.67092652e+09, 1.67092652e+09, 1.67092652e+09, ...,\n",
       "       1.67092655e+09, 1.67092655e+09, 1.67092655e+09])"
      ]
     },
     "metadata": {},
     "output_type": "display_data"
    },
    {
     "data": {
      "text/plain": [
       "array([33.66291 , 33.667404, 33.671757, ..., 34.26878 , 34.266975,\n",
       "       34.26498 ])"
      ]
     },
     "metadata": {},
     "output_type": "display_data"
    },
    {
     "data": {
      "text/plain": [
       "array([-0.254114  , -0.2540062 , -0.23552468, ...,  1.68950844,\n",
       "        1.70773183,  1.70121173])"
      ]
     },
     "metadata": {},
     "output_type": "display_data"
    },
    {
     "data": {
      "text/plain": [
       "992.969696969697"
      ]
     },
     "metadata": {},
     "output_type": "display_data"
    },
    {
     "data": {
      "text/plain": [
       "'fft_window: 496'"
      ]
     },
     "metadata": {},
     "output_type": "display_data"
    },
    {
     "data": {
      "text/plain": [
       "'fft_resolution: 2.0019550342130987'"
      ]
     },
     "metadata": {},
     "output_type": "display_data"
    },
    {
     "data": {
      "text/plain": [
       "'time: (65, 496)'"
      ]
     },
     "metadata": {},
     "output_type": "display_data"
    },
    {
     "data": {
      "text/plain": [
       "'emg_dat: (65, 496)'"
      ]
     },
     "metadata": {},
     "output_type": "display_data"
    },
    {
     "data": {
      "text/plain": [
       "'grip_dat: (65, 496)'"
      ]
     },
     "metadata": {},
     "output_type": "display_data"
    },
    {
     "data": {
      "text/plain": [
       "'emg_fft: (65, 249)'"
      ]
     },
     "metadata": {},
     "output_type": "display_data"
    },
    {
     "name": "stdout",
     "output_type": "stream",
     "text": [
      "fft_dim: 249\n"
     ]
    },
    {
     "data": {
      "text/plain": [
       "31501"
      ]
     },
     "metadata": {},
     "output_type": "display_data"
    },
    {
     "data": {
      "text/plain": [
       "array([1.67360684e+09, 1.67360684e+09, 1.67360684e+09, ...,\n",
       "       1.67360687e+09, 1.67360687e+09, 1.67360687e+09])"
      ]
     },
     "metadata": {},
     "output_type": "display_data"
    },
    {
     "data": {
      "text/plain": [
       "array([ 0.566297,  0.564398,  0.557378, ..., -0.017263, -0.015388,\n",
       "       -0.013729])"
      ]
     },
     "metadata": {},
     "output_type": "display_data"
    },
    {
     "data": {
      "text/plain": [
       "array([-0.546731  , -0.60074884, -0.56532033, ...,  0.95763415,\n",
       "        0.95374135,  0.94984761])"
      ]
     },
     "metadata": {},
     "output_type": "display_data"
    },
    {
     "data": {
      "text/plain": [
       "992.969696969697"
      ]
     },
     "metadata": {},
     "output_type": "display_data"
    },
    {
     "data": {
      "text/plain": [
       "'fft_window: 496'"
      ]
     },
     "metadata": {},
     "output_type": "display_data"
    },
    {
     "data": {
      "text/plain": [
       "'fft_resolution: 2.0019550342130987'"
      ]
     },
     "metadata": {},
     "output_type": "display_data"
    },
    {
     "data": {
      "text/plain": [
       "'time: (63, 496)'"
      ]
     },
     "metadata": {},
     "output_type": "display_data"
    },
    {
     "data": {
      "text/plain": [
       "'emg_dat: (63, 496)'"
      ]
     },
     "metadata": {},
     "output_type": "display_data"
    },
    {
     "data": {
      "text/plain": [
       "'grip_dat: (63, 496)'"
      ]
     },
     "metadata": {},
     "output_type": "display_data"
    },
    {
     "data": {
      "text/plain": [
       "'emg_fft: (63, 249)'"
      ]
     },
     "metadata": {},
     "output_type": "display_data"
    },
    {
     "name": "stdout",
     "output_type": "stream",
     "text": [
      "fft_dim: 249\n"
     ]
    },
    {
     "data": {
      "text/plain": [
       "32326"
      ]
     },
     "metadata": {},
     "output_type": "display_data"
    },
    {
     "data": {
      "text/plain": [
       "array([1.67092798e+09, 1.67092798e+09, 1.67092798e+09, ...,\n",
       "       1.67092801e+09, 1.67092801e+09, 1.67092801e+09])"
      ]
     },
     "metadata": {},
     "output_type": "display_data"
    },
    {
     "data": {
      "text/plain": [
       "array([26.571022, 26.573547, 26.571239, ..., 27.203217, 27.200933,\n",
       "       27.210356])"
      ]
     },
     "metadata": {},
     "output_type": "display_data"
    },
    {
     "data": {
      "text/plain": [
       "array([-1.075823  , -1.03990378, -1.075823  , ...,  0.13379886,\n",
       "        0.11812   ,  0.11812   ])"
      ]
     },
     "metadata": {},
     "output_type": "display_data"
    },
    {
     "data": {
      "text/plain": [
       "992.969696969697"
      ]
     },
     "metadata": {},
     "output_type": "display_data"
    },
    {
     "data": {
      "text/plain": [
       "'fft_window: 496'"
      ]
     },
     "metadata": {},
     "output_type": "display_data"
    },
    {
     "data": {
      "text/plain": [
       "'fft_resolution: 2.0019550342130987'"
      ]
     },
     "metadata": {},
     "output_type": "display_data"
    },
    {
     "data": {
      "text/plain": [
       "'time: (65, 496)'"
      ]
     },
     "metadata": {},
     "output_type": "display_data"
    },
    {
     "data": {
      "text/plain": [
       "'emg_dat: (65, 496)'"
      ]
     },
     "metadata": {},
     "output_type": "display_data"
    },
    {
     "data": {
      "text/plain": [
       "'grip_dat: (65, 496)'"
      ]
     },
     "metadata": {},
     "output_type": "display_data"
    },
    {
     "data": {
      "text/plain": [
       "'emg_fft: (65, 249)'"
      ]
     },
     "metadata": {},
     "output_type": "display_data"
    },
    {
     "name": "stdout",
     "output_type": "stream",
     "text": [
      "fft_dim: 249\n"
     ]
    },
    {
     "data": {
      "text/plain": [
       "32796"
      ]
     },
     "metadata": {},
     "output_type": "display_data"
    },
    {
     "data": {
      "text/plain": [
       "array([1.67360820e+09, 1.67360820e+09, 1.67360820e+09, ...,\n",
       "       1.67360823e+09, 1.67360823e+09, 1.67360823e+09])"
      ]
     },
     "metadata": {},
     "output_type": "display_data"
    },
    {
     "data": {
      "text/plain": [
       "array([-5.280291, -5.297215, -5.308634, ..., -6.768833, -6.767198,\n",
       "       -6.754   ])"
      ]
     },
     "metadata": {},
     "output_type": "display_data"
    },
    {
     "data": {
      "text/plain": [
       "array([ 0.773852  ,  0.77397708,  0.79119053, ..., -0.11292334,\n",
       "       -0.166836  , -0.166836  ])"
      ]
     },
     "metadata": {},
     "output_type": "display_data"
    },
    {
     "data": {
      "text/plain": [
       "992.969696969697"
      ]
     },
     "metadata": {},
     "output_type": "display_data"
    },
    {
     "data": {
      "text/plain": [
       "'fft_window: 496'"
      ]
     },
     "metadata": {},
     "output_type": "display_data"
    },
    {
     "data": {
      "text/plain": [
       "'fft_resolution: 2.0019550342130987'"
      ]
     },
     "metadata": {},
     "output_type": "display_data"
    },
    {
     "data": {
      "text/plain": [
       "'time: (66, 496)'"
      ]
     },
     "metadata": {},
     "output_type": "display_data"
    },
    {
     "data": {
      "text/plain": [
       "'emg_dat: (66, 496)'"
      ]
     },
     "metadata": {},
     "output_type": "display_data"
    },
    {
     "data": {
      "text/plain": [
       "'grip_dat: (66, 496)'"
      ]
     },
     "metadata": {},
     "output_type": "display_data"
    },
    {
     "data": {
      "text/plain": [
       "'emg_fft: (66, 249)'"
      ]
     },
     "metadata": {},
     "output_type": "display_data"
    },
    {
     "name": "stdout",
     "output_type": "stream",
     "text": [
      "fft_dim: 249\n"
     ]
    },
    {
     "data": {
      "text/plain": [
       "38084"
      ]
     },
     "metadata": {},
     "output_type": "display_data"
    },
    {
     "data": {
      "text/plain": [
       "array([1.67360824e+09, 1.67360824e+09, 1.67360824e+09, ...,\n",
       "       1.67360828e+09, 1.67360828e+09, 1.67360828e+09])"
      ]
     },
     "metadata": {},
     "output_type": "display_data"
    },
    {
     "data": {
      "text/plain": [
       "array([-7.304288, -7.314601, -7.320852, ..., -7.670329, -7.664391,\n",
       "       -7.652491])"
      ]
     },
     "metadata": {},
     "output_type": "display_data"
    },
    {
     "data": {
      "text/plain": [
       "array([0.430135  , 0.3762303 , 0.42988484, ..., 0.285415  , 0.28281422,\n",
       "       0.26459648])"
      ]
     },
     "metadata": {},
     "output_type": "display_data"
    },
    {
     "data": {
      "text/plain": [
       "992.969696969697"
      ]
     },
     "metadata": {},
     "output_type": "display_data"
    },
    {
     "data": {
      "text/plain": [
       "'fft_window: 496'"
      ]
     },
     "metadata": {},
     "output_type": "display_data"
    },
    {
     "data": {
      "text/plain": [
       "'fft_resolution: 2.0019550342130987'"
      ]
     },
     "metadata": {},
     "output_type": "display_data"
    },
    {
     "data": {
      "text/plain": [
       "'time: (76, 496)'"
      ]
     },
     "metadata": {},
     "output_type": "display_data"
    },
    {
     "data": {
      "text/plain": [
       "'emg_dat: (76, 496)'"
      ]
     },
     "metadata": {},
     "output_type": "display_data"
    },
    {
     "data": {
      "text/plain": [
       "'grip_dat: (76, 496)'"
      ]
     },
     "metadata": {},
     "output_type": "display_data"
    },
    {
     "data": {
      "text/plain": [
       "'emg_fft: (76, 249)'"
      ]
     },
     "metadata": {},
     "output_type": "display_data"
    },
    {
     "name": "stdout",
     "output_type": "stream",
     "text": [
      "fft_dim: 249\n"
     ]
    },
    {
     "data": {
      "text/plain": [
       "47806"
      ]
     },
     "metadata": {},
     "output_type": "display_data"
    },
    {
     "data": {
      "text/plain": [
       "array([1.67360829e+09, 1.67360829e+09, 1.67360829e+09, ...,\n",
       "       1.67360834e+09, 1.67360834e+09, 1.67360834e+09])"
      ]
     },
     "metadata": {},
     "output_type": "display_data"
    },
    {
     "data": {
      "text/plain": [
       "array([-7.888858, -7.882823, -7.874914, ..., -6.989814, -6.987938,\n",
       "       -6.985582])"
      ]
     },
     "metadata": {},
     "output_type": "display_data"
    },
    {
     "data": {
      "text/plain": [
       "array([4.265246  , 4.22917152, 4.24785738, ..., 1.03964114, 1.00101365,\n",
       "       0.98279218])"
      ]
     },
     "metadata": {},
     "output_type": "display_data"
    },
    {
     "data": {
      "text/plain": [
       "992.969696969697"
      ]
     },
     "metadata": {},
     "output_type": "display_data"
    },
    {
     "data": {
      "text/plain": [
       "'fft_window: 496'"
      ]
     },
     "metadata": {},
     "output_type": "display_data"
    },
    {
     "data": {
      "text/plain": [
       "'fft_resolution: 2.0019550342130987'"
      ]
     },
     "metadata": {},
     "output_type": "display_data"
    },
    {
     "data": {
      "text/plain": [
       "'time: (96, 496)'"
      ]
     },
     "metadata": {},
     "output_type": "display_data"
    },
    {
     "data": {
      "text/plain": [
       "'emg_dat: (96, 496)'"
      ]
     },
     "metadata": {},
     "output_type": "display_data"
    },
    {
     "data": {
      "text/plain": [
       "'grip_dat: (96, 496)'"
      ]
     },
     "metadata": {},
     "output_type": "display_data"
    },
    {
     "data": {
      "text/plain": [
       "'emg_fft: (96, 249)'"
      ]
     },
     "metadata": {},
     "output_type": "display_data"
    },
    {
     "name": "stdout",
     "output_type": "stream",
     "text": [
      "fft_dim: 249\n"
     ]
    },
    {
     "data": {
      "text/plain": [
       "35690"
      ]
     },
     "metadata": {},
     "output_type": "display_data"
    },
    {
     "data": {
      "text/plain": [
       "array([1.67360842e+09, 1.67360842e+09, 1.67360842e+09, ...,\n",
       "       1.67360846e+09, 1.67360846e+09, 1.67360846e+09])"
      ]
     },
     "metadata": {},
     "output_type": "display_data"
    },
    {
     "data": {
      "text/plain": [
       "array([14.488488, 14.488681, 14.495484, ..., 12.635371, 12.606835,\n",
       "       12.581953])"
      ]
     },
     "metadata": {},
     "output_type": "display_data"
    },
    {
     "data": {
      "text/plain": [
       "array([4.482323  , 4.482323  , 4.48308654, ..., 3.39992167, 3.38862645,\n",
       "       3.36549218])"
      ]
     },
     "metadata": {},
     "output_type": "display_data"
    },
    {
     "data": {
      "text/plain": [
       "992.969696969697"
      ]
     },
     "metadata": {},
     "output_type": "display_data"
    },
    {
     "data": {
      "text/plain": [
       "'fft_window: 496'"
      ]
     },
     "metadata": {},
     "output_type": "display_data"
    },
    {
     "data": {
      "text/plain": [
       "'fft_resolution: 2.0019550342130987'"
      ]
     },
     "metadata": {},
     "output_type": "display_data"
    },
    {
     "data": {
      "text/plain": [
       "'time: (71, 496)'"
      ]
     },
     "metadata": {},
     "output_type": "display_data"
    },
    {
     "data": {
      "text/plain": [
       "'emg_dat: (71, 496)'"
      ]
     },
     "metadata": {},
     "output_type": "display_data"
    },
    {
     "data": {
      "text/plain": [
       "'grip_dat: (71, 496)'"
      ]
     },
     "metadata": {},
     "output_type": "display_data"
    },
    {
     "data": {
      "text/plain": [
       "'emg_fft: (71, 249)'"
      ]
     },
     "metadata": {},
     "output_type": "display_data"
    },
    {
     "name": "stdout",
     "output_type": "stream",
     "text": [
      "fft_dim: 249\n"
     ]
    },
    {
     "data": {
      "text/plain": [
       "40521"
      ]
     },
     "metadata": {},
     "output_type": "display_data"
    },
    {
     "data": {
      "text/plain": [
       "array([1.67360847e+09, 1.67360847e+09, 1.67360847e+09, ...,\n",
       "       1.67360851e+09, 1.67360851e+09, 1.67360851e+09])"
      ]
     },
     "metadata": {},
     "output_type": "display_data"
    },
    {
     "data": {
      "text/plain": [
       "array([11.47753 , 11.466184, 11.47128 , ..., 10.230885, 10.230066,\n",
       "       10.231462])"
      ]
     },
     "metadata": {},
     "output_type": "display_data"
    },
    {
     "data": {
      "text/plain": [
       "array([1.262282  , 1.20827272, 1.24342859, ..., 1.98567132, 2.03556337,\n",
       "       2.03151662])"
      ]
     },
     "metadata": {},
     "output_type": "display_data"
    },
    {
     "data": {
      "text/plain": [
       "992.969696969697"
      ]
     },
     "metadata": {},
     "output_type": "display_data"
    },
    {
     "data": {
      "text/plain": [
       "'fft_window: 496'"
      ]
     },
     "metadata": {},
     "output_type": "display_data"
    },
    {
     "data": {
      "text/plain": [
       "'fft_resolution: 2.0019550342130987'"
      ]
     },
     "metadata": {},
     "output_type": "display_data"
    },
    {
     "data": {
      "text/plain": [
       "'time: (81, 496)'"
      ]
     },
     "metadata": {},
     "output_type": "display_data"
    },
    {
     "data": {
      "text/plain": [
       "'emg_dat: (81, 496)'"
      ]
     },
     "metadata": {},
     "output_type": "display_data"
    },
    {
     "data": {
      "text/plain": [
       "'grip_dat: (81, 496)'"
      ]
     },
     "metadata": {},
     "output_type": "display_data"
    },
    {
     "data": {
      "text/plain": [
       "'emg_fft: (81, 249)'"
      ]
     },
     "metadata": {},
     "output_type": "display_data"
    },
    {
     "name": "stdout",
     "output_type": "stream",
     "text": [
      "fft_dim: 249\n"
     ]
    },
    {
     "data": {
      "text/plain": [
       "42761"
      ]
     },
     "metadata": {},
     "output_type": "display_data"
    },
    {
     "data": {
      "text/plain": [
       "array([1.67360852e+09, 1.67360852e+09, 1.67360852e+09, ...,\n",
       "       1.67360856e+09, 1.67360856e+09, 1.67360856e+09])"
      ]
     },
     "metadata": {},
     "output_type": "display_data"
    },
    {
     "data": {
      "text/plain": [
       "array([9.193462, 9.20344 , 9.197044, ..., 5.489175, 5.479872, 5.470592])"
      ]
     },
     "metadata": {},
     "output_type": "display_data"
    },
    {
     "data": {
      "text/plain": [
       "array([1.4251    , 1.42465999, 1.37109997, ..., 1.859262  , 1.86212588,\n",
       "       1.89699665])"
      ]
     },
     "metadata": {},
     "output_type": "display_data"
    },
    {
     "data": {
      "text/plain": [
       "992.969696969697"
      ]
     },
     "metadata": {},
     "output_type": "display_data"
    },
    {
     "data": {
      "text/plain": [
       "'fft_window: 496'"
      ]
     },
     "metadata": {},
     "output_type": "display_data"
    },
    {
     "data": {
      "text/plain": [
       "'fft_resolution: 2.0019550342130987'"
      ]
     },
     "metadata": {},
     "output_type": "display_data"
    },
    {
     "data": {
      "text/plain": [
       "'time: (86, 496)'"
      ]
     },
     "metadata": {},
     "output_type": "display_data"
    },
    {
     "data": {
      "text/plain": [
       "'emg_dat: (86, 496)'"
      ]
     },
     "metadata": {},
     "output_type": "display_data"
    },
    {
     "data": {
      "text/plain": [
       "'grip_dat: (86, 496)'"
      ]
     },
     "metadata": {},
     "output_type": "display_data"
    },
    {
     "data": {
      "text/plain": [
       "'emg_fft: (86, 249)'"
      ]
     },
     "metadata": {},
     "output_type": "display_data"
    },
    {
     "name": "stdout",
     "output_type": "stream",
     "text": [
      "fft_dim: 249\n"
     ]
    },
    {
     "data": {
      "text/plain": [
       "28772"
      ]
     },
     "metadata": {},
     "output_type": "display_data"
    },
    {
     "data": {
      "text/plain": [
       "array([1.67360748e+09, 1.67360748e+09, 1.67360748e+09, ...,\n",
       "       1.67360751e+09, 1.67360751e+09, 1.67360751e+09])"
      ]
     },
     "metadata": {},
     "output_type": "display_data"
    },
    {
     "data": {
      "text/plain": [
       "array([3.155584, 3.154526, 3.150295, ..., 2.834715, 2.833753, 2.831397])"
      ]
     },
     "metadata": {},
     "output_type": "display_data"
    },
    {
     "data": {
      "text/plain": [
       "array([0.538678  , 0.55701698, 0.59320871, ..., 0.95382712, 0.93879924,\n",
       "       0.97166281])"
      ]
     },
     "metadata": {},
     "output_type": "display_data"
    },
    {
     "data": {
      "text/plain": [
       "992.969696969697"
      ]
     },
     "metadata": {},
     "output_type": "display_data"
    },
    {
     "data": {
      "text/plain": [
       "'fft_window: 496'"
      ]
     },
     "metadata": {},
     "output_type": "display_data"
    },
    {
     "data": {
      "text/plain": [
       "'fft_resolution: 2.0019550342130987'"
      ]
     },
     "metadata": {},
     "output_type": "display_data"
    },
    {
     "data": {
      "text/plain": [
       "'time: (58, 496)'"
      ]
     },
     "metadata": {},
     "output_type": "display_data"
    },
    {
     "data": {
      "text/plain": [
       "'emg_dat: (58, 496)'"
      ]
     },
     "metadata": {},
     "output_type": "display_data"
    },
    {
     "data": {
      "text/plain": [
       "'grip_dat: (58, 496)'"
      ]
     },
     "metadata": {},
     "output_type": "display_data"
    },
    {
     "data": {
      "text/plain": [
       "'emg_fft: (58, 249)'"
      ]
     },
     "metadata": {},
     "output_type": "display_data"
    },
    {
     "name": "stdout",
     "output_type": "stream",
     "text": [
      "fft_dim: 249\n"
     ]
    },
    {
     "data": {
      "text/plain": [
       "42931"
      ]
     },
     "metadata": {},
     "output_type": "display_data"
    },
    {
     "data": {
      "text/plain": [
       "array([1.67360753e+09, 1.67360753e+09, 1.67360753e+09, ...,\n",
       "       1.67360758e+09, 1.67360758e+09, 1.67360758e+09])"
      ]
     },
     "metadata": {},
     "output_type": "display_data"
    },
    {
     "data": {
      "text/plain": [
       "array([2.36554 , 2.364458, 2.361693, ..., 2.090276, 2.093978, 2.091862])"
      ]
     },
     "metadata": {},
     "output_type": "display_data"
    },
    {
     "data": {
      "text/plain": [
       "array([3.722542  , 3.776809  , 3.776809  , ..., 2.73051457, 2.75814973,\n",
       "       2.77917459])"
      ]
     },
     "metadata": {},
     "output_type": "display_data"
    },
    {
     "data": {
      "text/plain": [
       "992.969696969697"
      ]
     },
     "metadata": {},
     "output_type": "display_data"
    },
    {
     "data": {
      "text/plain": [
       "'fft_window: 496'"
      ]
     },
     "metadata": {},
     "output_type": "display_data"
    },
    {
     "data": {
      "text/plain": [
       "'fft_resolution: 2.0019550342130987'"
      ]
     },
     "metadata": {},
     "output_type": "display_data"
    },
    {
     "data": {
      "text/plain": [
       "'time: (86, 496)'"
      ]
     },
     "metadata": {},
     "output_type": "display_data"
    },
    {
     "data": {
      "text/plain": [
       "'emg_dat: (86, 496)'"
      ]
     },
     "metadata": {},
     "output_type": "display_data"
    },
    {
     "data": {
      "text/plain": [
       "'grip_dat: (86, 496)'"
      ]
     },
     "metadata": {},
     "output_type": "display_data"
    },
    {
     "data": {
      "text/plain": [
       "'emg_fft: (86, 249)'"
      ]
     },
     "metadata": {},
     "output_type": "display_data"
    },
    {
     "name": "stdout",
     "output_type": "stream",
     "text": [
      "fft_dim: 249\n"
     ]
    },
    {
     "data": {
      "text/plain": [
       "25849"
      ]
     },
     "metadata": {},
     "output_type": "display_data"
    },
    {
     "data": {
      "text/plain": [
       "array([1.67360792e+09, 1.67360792e+09, 1.67360792e+09, ...,\n",
       "       1.67360794e+09, 1.67360794e+09, 1.67360794e+09])"
      ]
     },
     "metadata": {},
     "output_type": "display_data"
    },
    {
     "data": {
      "text/plain": [
       "array([-30.400133, -30.410278, -30.408188, ..., -31.66094 , -31.662142,\n",
       "       -31.675028])"
      ]
     },
     "metadata": {},
     "output_type": "display_data"
    },
    {
     "data": {
      "text/plain": [
       "array([8.950584  , 8.91478115, 8.96917443, ..., 4.43077962, 4.45213585,\n",
       "       4.42170006])"
      ]
     },
     "metadata": {},
     "output_type": "display_data"
    },
    {
     "data": {
      "text/plain": [
       "992.969696969697"
      ]
     },
     "metadata": {},
     "output_type": "display_data"
    },
    {
     "data": {
      "text/plain": [
       "'fft_window: 496'"
      ]
     },
     "metadata": {},
     "output_type": "display_data"
    },
    {
     "data": {
      "text/plain": [
       "'fft_resolution: 2.0019550342130987'"
      ]
     },
     "metadata": {},
     "output_type": "display_data"
    },
    {
     "data": {
      "text/plain": [
       "'time: (52, 496)'"
      ]
     },
     "metadata": {},
     "output_type": "display_data"
    },
    {
     "data": {
      "text/plain": [
       "'emg_dat: (52, 496)'"
      ]
     },
     "metadata": {},
     "output_type": "display_data"
    },
    {
     "data": {
      "text/plain": [
       "'grip_dat: (52, 496)'"
      ]
     },
     "metadata": {},
     "output_type": "display_data"
    },
    {
     "data": {
      "text/plain": [
       "'emg_fft: (52, 249)'"
      ]
     },
     "metadata": {},
     "output_type": "display_data"
    },
    {
     "name": "stdout",
     "output_type": "stream",
     "text": [
      "fft_dim: 249\n"
     ]
    },
    {
     "data": {
      "text/plain": [
       "32616"
      ]
     },
     "metadata": {},
     "output_type": "display_data"
    },
    {
     "data": {
      "text/plain": [
       "array([1.67360772e+09, 1.67360772e+09, 1.67360772e+09, ...,\n",
       "       1.67360776e+09, 1.67360776e+09, 1.67360776e+09])"
      ]
     },
     "metadata": {},
     "output_type": "display_data"
    },
    {
     "data": {
      "text/plain": [
       "array([43.948563, 43.937721, 43.932358, ..., 43.6758  , 43.67794 ,\n",
       "       43.688419])"
      ]
     },
     "metadata": {},
     "output_type": "display_data"
    },
    {
     "data": {
      "text/plain": [
       "array([0.068338  , 0.0504903 , 0.08596074, ..., 2.29112294, 2.293424  ,\n",
       "       2.27740096])"
      ]
     },
     "metadata": {},
     "output_type": "display_data"
    },
    {
     "data": {
      "text/plain": [
       "992.969696969697"
      ]
     },
     "metadata": {},
     "output_type": "display_data"
    },
    {
     "data": {
      "text/plain": [
       "'fft_window: 496'"
      ]
     },
     "metadata": {},
     "output_type": "display_data"
    },
    {
     "data": {
      "text/plain": [
       "'fft_resolution: 2.0019550342130987'"
      ]
     },
     "metadata": {},
     "output_type": "display_data"
    },
    {
     "data": {
      "text/plain": [
       "'time: (65, 496)'"
      ]
     },
     "metadata": {},
     "output_type": "display_data"
    },
    {
     "data": {
      "text/plain": [
       "'emg_dat: (65, 496)'"
      ]
     },
     "metadata": {},
     "output_type": "display_data"
    },
    {
     "data": {
      "text/plain": [
       "'grip_dat: (65, 496)'"
      ]
     },
     "metadata": {},
     "output_type": "display_data"
    },
    {
     "data": {
      "text/plain": [
       "'emg_fft: (65, 249)'"
      ]
     },
     "metadata": {},
     "output_type": "display_data"
    },
    {
     "name": "stdout",
     "output_type": "stream",
     "text": [
      "fft_dim: 249\n"
     ]
    },
    {
     "data": {
      "text/plain": [
       "33168"
      ]
     },
     "metadata": {},
     "output_type": "display_data"
    },
    {
     "data": {
      "text/plain": [
       "array([1.67360777e+09, 1.67360777e+09, 1.67360777e+09, ...,\n",
       "       1.67360780e+09, 1.67360780e+09, 1.67360780e+09])"
      ]
     },
     "metadata": {},
     "output_type": "display_data"
    },
    {
     "data": {
      "text/plain": [
       "array([42.277287, 42.271015, 42.270535, ..., 42.435619, 42.43615 ,\n",
       "       42.437229])"
      ]
     },
     "metadata": {},
     "output_type": "display_data"
    },
    {
     "data": {
      "text/plain": [
       "array([4.391878  , 4.391878  , 4.391878  , ..., 1.57292898, 1.5396046 ,\n",
       "       1.59457574])"
      ]
     },
     "metadata": {},
     "output_type": "display_data"
    },
    {
     "data": {
      "text/plain": [
       "992.969696969697"
      ]
     },
     "metadata": {},
     "output_type": "display_data"
    },
    {
     "data": {
      "text/plain": [
       "'fft_window: 496'"
      ]
     },
     "metadata": {},
     "output_type": "display_data"
    },
    {
     "data": {
      "text/plain": [
       "'fft_resolution: 2.0019550342130987'"
      ]
     },
     "metadata": {},
     "output_type": "display_data"
    },
    {
     "data": {
      "text/plain": [
       "'time: (66, 496)'"
      ]
     },
     "metadata": {},
     "output_type": "display_data"
    },
    {
     "data": {
      "text/plain": [
       "'emg_dat: (66, 496)'"
      ]
     },
     "metadata": {},
     "output_type": "display_data"
    },
    {
     "data": {
      "text/plain": [
       "'grip_dat: (66, 496)'"
      ]
     },
     "metadata": {},
     "output_type": "display_data"
    },
    {
     "data": {
      "text/plain": [
       "'emg_fft: (66, 249)'"
      ]
     },
     "metadata": {},
     "output_type": "display_data"
    },
    {
     "name": "stdout",
     "output_type": "stream",
     "text": [
      "fft_dim: 249\n"
     ]
    },
    {
     "data": {
      "text/plain": [
       "38032"
      ]
     },
     "metadata": {},
     "output_type": "display_data"
    },
    {
     "data": {
      "text/plain": [
       "array([1.67360782e+09, 1.67360782e+09, 1.67360782e+09, ...,\n",
       "       1.67360786e+09, 1.67360786e+09, 1.67360786e+09])"
      ]
     },
     "metadata": {},
     "output_type": "display_data"
    },
    {
     "data": {
      "text/plain": [
       "array([42.626621, 42.630085, 42.634819, ..., 42.922344, 42.920807,\n",
       "       42.923161])"
      ]
     },
     "metadata": {},
     "output_type": "display_data"
    },
    {
     "data": {
      "text/plain": [
       "array([-1.270335  , -1.23414949, -1.23305629, ...,  1.09943319,\n",
       "        1.08122342,  1.06387195])"
      ]
     },
     "metadata": {},
     "output_type": "display_data"
    },
    {
     "data": {
      "text/plain": [
       "992.969696969697"
      ]
     },
     "metadata": {},
     "output_type": "display_data"
    },
    {
     "data": {
      "text/plain": [
       "'fft_window: 496'"
      ]
     },
     "metadata": {},
     "output_type": "display_data"
    },
    {
     "data": {
      "text/plain": [
       "'fft_resolution: 2.0019550342130987'"
      ]
     },
     "metadata": {},
     "output_type": "display_data"
    },
    {
     "data": {
      "text/plain": [
       "'time: (76, 496)'"
      ]
     },
     "metadata": {},
     "output_type": "display_data"
    },
    {
     "data": {
      "text/plain": [
       "'emg_dat: (76, 496)'"
      ]
     },
     "metadata": {},
     "output_type": "display_data"
    },
    {
     "data": {
      "text/plain": [
       "'grip_dat: (76, 496)'"
      ]
     },
     "metadata": {},
     "output_type": "display_data"
    },
    {
     "data": {
      "text/plain": [
       "'emg_fft: (76, 249)'"
      ]
     },
     "metadata": {},
     "output_type": "display_data"
    },
    {
     "name": "stdout",
     "output_type": "stream",
     "text": [
      "fft_dim: 249\n"
     ]
    },
    {
     "data": {
      "text/plain": [
       "28089"
      ]
     },
     "metadata": {},
     "output_type": "display_data"
    },
    {
     "data": {
      "text/plain": [
       "array([1.67361206e+09, 1.67361206e+09, 1.67361206e+09, ...,\n",
       "       1.67361209e+09, 1.67361209e+09, 1.67361209e+09])"
      ]
     },
     "metadata": {},
     "output_type": "display_data"
    },
    {
     "data": {
      "text/plain": [
       "array([-8.560021, -8.578004, -8.588943, ..., -5.361139, -5.361788,\n",
       "       -5.363399])"
      ]
     },
     "metadata": {},
     "output_type": "display_data"
    },
    {
     "data": {
      "text/plain": [
       "array([4.011983  , 4.01237108, 4.06622958, ..., 0.41897278, 0.38946817,\n",
       "       0.38728037])"
      ]
     },
     "metadata": {},
     "output_type": "display_data"
    },
    {
     "data": {
      "text/plain": [
       "992.969696969697"
      ]
     },
     "metadata": {},
     "output_type": "display_data"
    },
    {
     "data": {
      "text/plain": [
       "'fft_window: 496'"
      ]
     },
     "metadata": {},
     "output_type": "display_data"
    },
    {
     "data": {
      "text/plain": [
       "'fft_resolution: 2.0019550342130987'"
      ]
     },
     "metadata": {},
     "output_type": "display_data"
    },
    {
     "data": {
      "text/plain": [
       "'time: (56, 496)'"
      ]
     },
     "metadata": {},
     "output_type": "display_data"
    },
    {
     "data": {
      "text/plain": [
       "'emg_dat: (56, 496)'"
      ]
     },
     "metadata": {},
     "output_type": "display_data"
    },
    {
     "data": {
      "text/plain": [
       "'grip_dat: (56, 496)'"
      ]
     },
     "metadata": {},
     "output_type": "display_data"
    },
    {
     "data": {
      "text/plain": [
       "'emg_fft: (56, 249)'"
      ]
     },
     "metadata": {},
     "output_type": "display_data"
    },
    {
     "name": "stdout",
     "output_type": "stream",
     "text": [
      "fft_dim: 249\n"
     ]
    },
    {
     "data": {
      "text/plain": [
       "28490"
      ]
     },
     "metadata": {},
     "output_type": "display_data"
    },
    {
     "data": {
      "text/plain": [
       "array([1.67361210e+09, 1.67361210e+09, 1.67361210e+09, ...,\n",
       "       1.67361213e+09, 1.67361213e+09, 1.67361213e+09])"
      ]
     },
     "metadata": {},
     "output_type": "display_data"
    },
    {
     "data": {
      "text/plain": [
       "array([-5.600871, -5.596303, -5.588418, ..., -1.195033, -1.200683,\n",
       "       -1.201452])"
      ]
     },
     "metadata": {},
     "output_type": "display_data"
    },
    {
     "data": {
      "text/plain": [
       "array([-0.022116  , -0.02185728,  0.01351855, ...,  0.53377741,\n",
       "        0.53146225,  0.52914654])"
      ]
     },
     "metadata": {},
     "output_type": "display_data"
    },
    {
     "data": {
      "text/plain": [
       "992.969696969697"
      ]
     },
     "metadata": {},
     "output_type": "display_data"
    },
    {
     "data": {
      "text/plain": [
       "'fft_window: 496'"
      ]
     },
     "metadata": {},
     "output_type": "display_data"
    },
    {
     "data": {
      "text/plain": [
       "'fft_resolution: 2.0019550342130987'"
      ]
     },
     "metadata": {},
     "output_type": "display_data"
    },
    {
     "data": {
      "text/plain": [
       "'time: (57, 496)'"
      ]
     },
     "metadata": {},
     "output_type": "display_data"
    },
    {
     "data": {
      "text/plain": [
       "'emg_dat: (57, 496)'"
      ]
     },
     "metadata": {},
     "output_type": "display_data"
    },
    {
     "data": {
      "text/plain": [
       "'grip_dat: (57, 496)'"
      ]
     },
     "metadata": {},
     "output_type": "display_data"
    },
    {
     "data": {
      "text/plain": [
       "'emg_fft: (57, 249)'"
      ]
     },
     "metadata": {},
     "output_type": "display_data"
    },
    {
     "name": "stdout",
     "output_type": "stream",
     "text": [
      "fft_dim: 249\n"
     ]
    },
    {
     "data": {
      "text/plain": [
       "29099"
      ]
     },
     "metadata": {},
     "output_type": "display_data"
    },
    {
     "data": {
      "text/plain": [
       "array([1.67361216e+09, 1.67361216e+09, 1.67361216e+09, ...,\n",
       "       1.67361219e+09, 1.67361219e+09, 1.67361219e+09])"
      ]
     },
     "metadata": {},
     "output_type": "display_data"
    },
    {
     "data": {
      "text/plain": [
       "array([-3.703471, -3.696331, -3.704072, ..., -1.987265, -1.981568,\n",
       "       -1.987433])"
      ]
     },
     "metadata": {},
     "output_type": "display_data"
    },
    {
     "data": {
      "text/plain": [
       "array([2.130614  , 2.07646408, 2.09493693, ..., 0.58053162, 0.57957282,\n",
       "       0.57861379])"
      ]
     },
     "metadata": {},
     "output_type": "display_data"
    },
    {
     "data": {
      "text/plain": [
       "992.969696969697"
      ]
     },
     "metadata": {},
     "output_type": "display_data"
    },
    {
     "data": {
      "text/plain": [
       "'fft_window: 496'"
      ]
     },
     "metadata": {},
     "output_type": "display_data"
    },
    {
     "data": {
      "text/plain": [
       "'fft_resolution: 2.0019550342130987'"
      ]
     },
     "metadata": {},
     "output_type": "display_data"
    },
    {
     "data": {
      "text/plain": [
       "'time: (58, 496)'"
      ]
     },
     "metadata": {},
     "output_type": "display_data"
    },
    {
     "data": {
      "text/plain": [
       "'emg_dat: (58, 496)'"
      ]
     },
     "metadata": {},
     "output_type": "display_data"
    },
    {
     "data": {
      "text/plain": [
       "'grip_dat: (58, 496)'"
      ]
     },
     "metadata": {},
     "output_type": "display_data"
    },
    {
     "data": {
      "text/plain": [
       "'emg_fft: (58, 249)'"
      ]
     },
     "metadata": {},
     "output_type": "display_data"
    },
    {
     "name": "stdout",
     "output_type": "stream",
     "text": [
      "fft_dim: 249\n"
     ]
    },
    {
     "data": {
      "text/plain": [
       "27373"
      ]
     },
     "metadata": {},
     "output_type": "display_data"
    },
    {
     "data": {
      "text/plain": [
       "array([1.67361226e+09, 1.67361226e+09, 1.67361226e+09, ...,\n",
       "       1.67361229e+09, 1.67361229e+09, 1.67361229e+09])"
      ]
     },
     "metadata": {},
     "output_type": "display_data"
    },
    {
     "data": {
      "text/plain": [
       "array([2.737711, 2.737783, 2.7336  , ..., 1.21758 , 1.213902, 1.214551])"
      ]
     },
     "metadata": {},
     "output_type": "display_data"
    },
    {
     "data": {
      "text/plain": [
       "array([0.556767  , 0.50275878, 0.53840196, ..., 0.61878455, 0.62240371,\n",
       "       0.62602202])"
      ]
     },
     "metadata": {},
     "output_type": "display_data"
    },
    {
     "data": {
      "text/plain": [
       "992.969696969697"
      ]
     },
     "metadata": {},
     "output_type": "display_data"
    },
    {
     "data": {
      "text/plain": [
       "'fft_window: 496'"
      ]
     },
     "metadata": {},
     "output_type": "display_data"
    },
    {
     "data": {
      "text/plain": [
       "'fft_resolution: 2.0019550342130987'"
      ]
     },
     "metadata": {},
     "output_type": "display_data"
    },
    {
     "data": {
      "text/plain": [
       "'time: (55, 496)'"
      ]
     },
     "metadata": {},
     "output_type": "display_data"
    },
    {
     "data": {
      "text/plain": [
       "'emg_dat: (55, 496)'"
      ]
     },
     "metadata": {},
     "output_type": "display_data"
    },
    {
     "data": {
      "text/plain": [
       "'grip_dat: (55, 496)'"
      ]
     },
     "metadata": {},
     "output_type": "display_data"
    },
    {
     "data": {
      "text/plain": [
       "'emg_fft: (55, 249)'"
      ]
     },
     "metadata": {},
     "output_type": "display_data"
    },
    {
     "name": "stdout",
     "output_type": "stream",
     "text": [
      "fft_dim: 249\n"
     ]
    },
    {
     "data": {
      "text/plain": [
       "31318"
      ]
     },
     "metadata": {},
     "output_type": "display_data"
    },
    {
     "data": {
      "text/plain": [
       "array([1.67361232e+09, 1.67361232e+09, 1.67361232e+09, ...,\n",
       "       1.67361236e+09, 1.67361236e+09, 1.67361236e+09])"
      ]
     },
     "metadata": {},
     "output_type": "display_data"
    },
    {
     "data": {
      "text/plain": [
       "array([2.079794, 2.080154, 2.077919, ..., 2.304332, 2.305775, 2.311112])"
      ]
     },
     "metadata": {},
     "output_type": "display_data"
    },
    {
     "data": {
      "text/plain": [
       "array([1.316557  , 1.28066435, 1.31601408, ..., 0.18046925, 0.1784224 ,\n",
       "       0.18584929])"
      ]
     },
     "metadata": {},
     "output_type": "display_data"
    },
    {
     "data": {
      "text/plain": [
       "992.969696969697"
      ]
     },
     "metadata": {},
     "output_type": "display_data"
    },
    {
     "data": {
      "text/plain": [
       "'fft_window: 496'"
      ]
     },
     "metadata": {},
     "output_type": "display_data"
    },
    {
     "data": {
      "text/plain": [
       "'fft_resolution: 2.0019550342130987'"
      ]
     },
     "metadata": {},
     "output_type": "display_data"
    },
    {
     "data": {
      "text/plain": [
       "'time: (63, 496)'"
      ]
     },
     "metadata": {},
     "output_type": "display_data"
    },
    {
     "data": {
      "text/plain": [
       "'emg_dat: (63, 496)'"
      ]
     },
     "metadata": {},
     "output_type": "display_data"
    },
    {
     "data": {
      "text/plain": [
       "'grip_dat: (63, 496)'"
      ]
     },
     "metadata": {},
     "output_type": "display_data"
    },
    {
     "data": {
      "text/plain": [
       "'emg_fft: (63, 249)'"
      ]
     },
     "metadata": {},
     "output_type": "display_data"
    },
    {
     "name": "stdout",
     "output_type": "stream",
     "text": [
      "fft_dim: 249\n"
     ]
    },
    {
     "data": {
      "text/plain": [
       "28940"
      ]
     },
     "metadata": {},
     "output_type": "display_data"
    },
    {
     "data": {
      "text/plain": [
       "array([1.67361237e+09, 1.67361237e+09, 1.67361237e+09, ...,\n",
       "       1.67361240e+09, 1.67361240e+09, 1.67361240e+09])"
      ]
     },
     "metadata": {},
     "output_type": "display_data"
    },
    {
     "data": {
      "text/plain": [
       "array([2.124461, 2.122802, 2.124293, ..., 1.039343, 1.043574, 1.041218])"
      ]
     },
     "metadata": {},
     "output_type": "display_data"
    },
    {
     "data": {
      "text/plain": [
       "array([0.285415  , 0.267326  , 0.26707584, ..., 0.77303671, 0.73796722,\n",
       "       0.77380887])"
      ]
     },
     "metadata": {},
     "output_type": "display_data"
    },
    {
     "data": {
      "text/plain": [
       "992.969696969697"
      ]
     },
     "metadata": {},
     "output_type": "display_data"
    },
    {
     "data": {
      "text/plain": [
       "'fft_window: 496'"
      ]
     },
     "metadata": {},
     "output_type": "display_data"
    },
    {
     "data": {
      "text/plain": [
       "'fft_resolution: 2.0019550342130987'"
      ]
     },
     "metadata": {},
     "output_type": "display_data"
    },
    {
     "data": {
      "text/plain": [
       "'time: (58, 496)'"
      ]
     },
     "metadata": {},
     "output_type": "display_data"
    },
    {
     "data": {
      "text/plain": [
       "'emg_dat: (58, 496)'"
      ]
     },
     "metadata": {},
     "output_type": "display_data"
    },
    {
     "data": {
      "text/plain": [
       "'grip_dat: (58, 496)'"
      ]
     },
     "metadata": {},
     "output_type": "display_data"
    },
    {
     "data": {
      "text/plain": [
       "'emg_fft: (58, 249)'"
      ]
     },
     "metadata": {},
     "output_type": "display_data"
    },
    {
     "name": "stdout",
     "output_type": "stream",
     "text": [
      "fft_dim: 249\n"
     ]
    },
    {
     "data": {
      "text/plain": [
       "55362"
      ]
     },
     "metadata": {},
     "output_type": "display_data"
    },
    {
     "data": {
      "text/plain": [
       "array([1.67360979e+09, 1.67360979e+09, 1.67360979e+09, ...,\n",
       "       1.67360985e+09, 1.67360985e+09, 1.67360985e+09])"
      ]
     },
     "metadata": {},
     "output_type": "display_data"
    },
    {
     "data": {
      "text/plain": [
       "array([16.94935 , 16.955288, 16.951345, ..., 16.634348, 16.630453,\n",
       "       16.631029])"
      ]
     },
     "metadata": {},
     "output_type": "display_data"
    },
    {
     "data": {
      "text/plain": [
       "array([0.538678  , 0.55647378, 0.52112382, ..., 0.33969   , 0.33969   ,\n",
       "       0.33969   ])"
      ]
     },
     "metadata": {},
     "output_type": "display_data"
    },
    {
     "data": {
      "text/plain": [
       "992.969696969697"
      ]
     },
     "metadata": {},
     "output_type": "display_data"
    },
    {
     "data": {
      "text/plain": [
       "'fft_window: 496'"
      ]
     },
     "metadata": {},
     "output_type": "display_data"
    },
    {
     "data": {
      "text/plain": [
       "'fft_resolution: 2.0019550342130987'"
      ]
     },
     "metadata": {},
     "output_type": "display_data"
    },
    {
     "data": {
      "text/plain": [
       "'time: (111, 496)'"
      ]
     },
     "metadata": {},
     "output_type": "display_data"
    },
    {
     "data": {
      "text/plain": [
       "'emg_dat: (111, 496)'"
      ]
     },
     "metadata": {},
     "output_type": "display_data"
    },
    {
     "data": {
      "text/plain": [
       "'grip_dat: (111, 496)'"
      ]
     },
     "metadata": {},
     "output_type": "display_data"
    },
    {
     "data": {
      "text/plain": [
       "'emg_fft: (111, 249)'"
      ]
     },
     "metadata": {},
     "output_type": "display_data"
    },
    {
     "name": "stdout",
     "output_type": "stream",
     "text": [
      "fft_dim: 249\n"
     ]
    },
    {
     "data": {
      "text/plain": [
       "50119"
      ]
     },
     "metadata": {},
     "output_type": "display_data"
    },
    {
     "data": {
      "text/plain": [
       "array([1.67360986e+09, 1.67360986e+09, 1.67360986e+09, ...,\n",
       "       1.67360992e+09, 1.67360992e+09, 1.67360992e+09])"
      ]
     },
     "metadata": {},
     "output_type": "display_data"
    },
    {
     "data": {
      "text/plain": [
       "array([16.182362, 16.185173, 16.185223, ..., 15.232375, 15.236534,\n",
       "       15.234587])"
      ]
     },
     "metadata": {},
     "output_type": "display_data"
    },
    {
     "data": {
      "text/plain": [
       "array([0.050249  , 0.10464108, 0.122605  , ..., 1.28822425, 1.27000917,\n",
       "       1.27277138])"
      ]
     },
     "metadata": {},
     "output_type": "display_data"
    },
    {
     "data": {
      "text/plain": [
       "992.969696969697"
      ]
     },
     "metadata": {},
     "output_type": "display_data"
    },
    {
     "data": {
      "text/plain": [
       "'fft_window: 496'"
      ]
     },
     "metadata": {},
     "output_type": "display_data"
    },
    {
     "data": {
      "text/plain": [
       "'fft_resolution: 2.0019550342130987'"
      ]
     },
     "metadata": {},
     "output_type": "display_data"
    },
    {
     "data": {
      "text/plain": [
       "'time: (101, 496)'"
      ]
     },
     "metadata": {},
     "output_type": "display_data"
    },
    {
     "data": {
      "text/plain": [
       "'emg_dat: (101, 496)'"
      ]
     },
     "metadata": {},
     "output_type": "display_data"
    },
    {
     "data": {
      "text/plain": [
       "'grip_dat: (101, 496)'"
      ]
     },
     "metadata": {},
     "output_type": "display_data"
    },
    {
     "data": {
      "text/plain": [
       "'emg_fft: (101, 249)'"
      ]
     },
     "metadata": {},
     "output_type": "display_data"
    },
    {
     "name": "stdout",
     "output_type": "stream",
     "text": [
      "fft_dim: 249\n"
     ]
    },
    {
     "data": {
      "text/plain": [
       "56973"
      ]
     },
     "metadata": {},
     "output_type": "display_data"
    },
    {
     "data": {
      "text/plain": [
       "array([1.67360996e+09, 1.67360996e+09, 1.67360996e+09, ...,\n",
       "       1.67361002e+09, 1.67361002e+09, 1.67361002e+09])"
      ]
     },
     "metadata": {},
     "output_type": "display_data"
    },
    {
     "data": {
      "text/plain": [
       "array([16.14315 , 16.143415, 16.150339, ..., 14.306694, 14.302486,\n",
       "       14.300251])"
      ]
     },
     "metadata": {},
     "output_type": "display_data"
    },
    {
     "data": {
      "text/plain": [
       "array([ 1.117561  ,  1.09995512,  1.17158584, ..., -0.402011  ,\n",
       "       -0.45410421, -0.47376763])"
      ]
     },
     "metadata": {},
     "output_type": "display_data"
    },
    {
     "data": {
      "text/plain": [
       "992.969696969697"
      ]
     },
     "metadata": {},
     "output_type": "display_data"
    },
    {
     "data": {
      "text/plain": [
       "'fft_window: 496'"
      ]
     },
     "metadata": {},
     "output_type": "display_data"
    },
    {
     "data": {
      "text/plain": [
       "'fft_resolution: 2.0019550342130987'"
      ]
     },
     "metadata": {},
     "output_type": "display_data"
    },
    {
     "data": {
      "text/plain": [
       "'time: (114, 496)'"
      ]
     },
     "metadata": {},
     "output_type": "display_data"
    },
    {
     "data": {
      "text/plain": [
       "'emg_dat: (114, 496)'"
      ]
     },
     "metadata": {},
     "output_type": "display_data"
    },
    {
     "data": {
      "text/plain": [
       "'grip_dat: (114, 496)'"
      ]
     },
     "metadata": {},
     "output_type": "display_data"
    },
    {
     "data": {
      "text/plain": [
       "'emg_fft: (114, 249)'"
      ]
     },
     "metadata": {},
     "output_type": "display_data"
    },
    {
     "name": "stdout",
     "output_type": "stream",
     "text": [
      "fft_dim: 249\n"
     ]
    },
    {
     "data": {
      "text/plain": [
       "39717"
      ]
     },
     "metadata": {},
     "output_type": "display_data"
    },
    {
     "data": {
      "text/plain": [
       "array([1.67361010e+09, 1.67361010e+09, 1.67361010e+09, ...,\n",
       "       1.67361015e+09, 1.67361015e+09, 1.67361015e+09])"
      ]
     },
     "metadata": {},
     "output_type": "display_data"
    },
    {
     "data": {
      "text/plain": [
       "array([12.266541, 12.268056, 12.26582 , ..., 12.067654, 12.063784,\n",
       "       12.057557])"
      ]
     },
     "metadata": {},
     "output_type": "display_data"
    },
    {
     "data": {
      "text/plain": [
       "array([0.267326  , 0.33964831, 0.33357584, ..., 1.35226919, 1.3340508 ,\n",
       "       1.3172816 ])"
      ]
     },
     "metadata": {},
     "output_type": "display_data"
    },
    {
     "data": {
      "text/plain": [
       "992.969696969697"
      ]
     },
     "metadata": {},
     "output_type": "display_data"
    },
    {
     "data": {
      "text/plain": [
       "'fft_window: 496'"
      ]
     },
     "metadata": {},
     "output_type": "display_data"
    },
    {
     "data": {
      "text/plain": [
       "'fft_resolution: 2.0019550342130987'"
      ]
     },
     "metadata": {},
     "output_type": "display_data"
    },
    {
     "data": {
      "text/plain": [
       "'time: (80, 496)'"
      ]
     },
     "metadata": {},
     "output_type": "display_data"
    },
    {
     "data": {
      "text/plain": [
       "'emg_dat: (80, 496)'"
      ]
     },
     "metadata": {},
     "output_type": "display_data"
    },
    {
     "data": {
      "text/plain": [
       "'grip_dat: (80, 496)'"
      ]
     },
     "metadata": {},
     "output_type": "display_data"
    },
    {
     "data": {
      "text/plain": [
       "'emg_fft: (80, 249)'"
      ]
     },
     "metadata": {},
     "output_type": "display_data"
    },
    {
     "name": "stdout",
     "output_type": "stream",
     "text": [
      "fft_dim: 249\n"
     ]
    },
    {
     "data": {
      "text/plain": [
       "56167"
      ]
     },
     "metadata": {},
     "output_type": "display_data"
    },
    {
     "data": {
      "text/plain": [
       "array([1.67361016e+09, 1.67361016e+09, 1.67361016e+09, ...,\n",
       "       1.67361022e+09, 1.67361022e+09, 1.67361022e+09])"
      ]
     },
     "metadata": {},
     "output_type": "display_data"
    },
    {
     "data": {
      "text/plain": [
       "array([11.127404, 11.130626, 11.132717, ...,  8.807444,  8.811193,\n",
       "        8.807756])"
      ]
     },
     "metadata": {},
     "output_type": "display_data"
    },
    {
     "data": {
      "text/plain": [
       "array([-0.311557  , -0.36557384, -0.32990047, ..., -0.4201    ,\n",
       "       -0.40342154, -0.3754292 ])"
      ]
     },
     "metadata": {},
     "output_type": "display_data"
    },
    {
     "data": {
      "text/plain": [
       "992.969696969697"
      ]
     },
     "metadata": {},
     "output_type": "display_data"
    },
    {
     "data": {
      "text/plain": [
       "'fft_window: 496'"
      ]
     },
     "metadata": {},
     "output_type": "display_data"
    },
    {
     "data": {
      "text/plain": [
       "'fft_resolution: 2.0019550342130987'"
      ]
     },
     "metadata": {},
     "output_type": "display_data"
    },
    {
     "data": {
      "text/plain": [
       "'time: (113, 496)'"
      ]
     },
     "metadata": {},
     "output_type": "display_data"
    },
    {
     "data": {
      "text/plain": [
       "'emg_dat: (113, 496)'"
      ]
     },
     "metadata": {},
     "output_type": "display_data"
    },
    {
     "data": {
      "text/plain": [
       "'grip_dat: (113, 496)'"
      ]
     },
     "metadata": {},
     "output_type": "display_data"
    },
    {
     "data": {
      "text/plain": [
       "'emg_fft: (113, 249)'"
      ]
     },
     "metadata": {},
     "output_type": "display_data"
    },
    {
     "name": "stdout",
     "output_type": "stream",
     "text": [
      "fft_dim: 249\n"
     ]
    },
    {
     "data": {
      "text/plain": [
       "64918"
      ]
     },
     "metadata": {},
     "output_type": "display_data"
    },
    {
     "data": {
      "text/plain": [
       "array([1.67361024e+09, 1.67361024e+09, 1.67361024e+09, ...,\n",
       "       1.67361030e+09, 1.67361030e+09, 1.67361030e+09])"
      ]
     },
     "metadata": {},
     "output_type": "display_data"
    },
    {
     "data": {
      "text/plain": [
       "array([6.982141, 6.98844 , 6.990892, ..., 5.29964 , 5.319257, 5.266584])"
      ]
     },
     "metadata": {},
     "output_type": "display_data"
    },
    {
     "data": {
      "text/plain": [
       "array([-0.438189  , -0.45640308, -0.474367  , ..., -1.43551223,\n",
       "       -1.4367003 , -1.43788809])"
      ]
     },
     "metadata": {},
     "output_type": "display_data"
    },
    {
     "data": {
      "text/plain": [
       "992.969696969697"
      ]
     },
     "metadata": {},
     "output_type": "display_data"
    },
    {
     "data": {
      "text/plain": [
       "'fft_window: 496'"
      ]
     },
     "metadata": {},
     "output_type": "display_data"
    },
    {
     "data": {
      "text/plain": [
       "'fft_resolution: 2.0019550342130987'"
      ]
     },
     "metadata": {},
     "output_type": "display_data"
    },
    {
     "data": {
      "text/plain": [
       "'time: (130, 496)'"
      ]
     },
     "metadata": {},
     "output_type": "display_data"
    },
    {
     "data": {
      "text/plain": [
       "'emg_dat: (130, 496)'"
      ]
     },
     "metadata": {},
     "output_type": "display_data"
    },
    {
     "data": {
      "text/plain": [
       "'grip_dat: (130, 496)'"
      ]
     },
     "metadata": {},
     "output_type": "display_data"
    },
    {
     "data": {
      "text/plain": [
       "'emg_fft: (130, 249)'"
      ]
     },
     "metadata": {},
     "output_type": "display_data"
    },
    {
     "name": "stdout",
     "output_type": "stream",
     "text": [
      "fft_dim: 249\n"
     ]
    }
   ],
   "source": [
    "# kod za sve da povleče:\n",
    "\n",
    "import glob\n",
    "import os\n",
    "import pandas as pd\n",
    "\n",
    "\n",
    "print('Get current working directory : ', os.getcwd()) #help function\n",
    "cvs_files = glob.glob(\"c:\\\\Users\\\\Luka\\\\Documents\\\\Riteh\\\\UMS\\\\new_data\\\\*.csv\")\n",
    "print(cvs_files)\n",
    "array_for_output1 = []\n",
    "array_for_output2 =[]\n",
    "array_for_output3 =[]\n",
    "array_for_output4 = []\n",
    "\n",
    "\n",
    "for file in cvs_files:\n",
    "    datoteka=np.loadtxt(file, delimiter=\",\", skiprows=1)\n",
    "\n",
    "    emg_dat = datoteka[:, 1]\n",
    "    grip_dat = datoteka[:, 2]\n",
    "    time_dat = datoteka[:, 0]\n",
    "    # Data length\n",
    "    dat_len = time_dat.shape[0]\n",
    "    display(dat_len)\n",
    "    # Ispis\n",
    "    display(time_dat)\n",
    "    display(emg_dat)\n",
    "    display(grip_dat)\n",
    "    # Sampling rate - median daje bolje rezultate od prosjeka\n",
    "    sampling_rate = 1./np.median(np.diff(time_dat[10:-10])) # iz ROS skripte\n",
    "    display(sampling_rate)\n",
    "\n",
    "    ######################\n",
    "    # FFT treba napraviti na prozorima od 0.5s, kao što smo i u real-time-u s ROS-om radili\n",
    "    # Calculate window size for FFT - always round to nearest even number\n",
    "    fft_relative_window_size = 0.5\n",
    "    # Zaokružimo na najbliži cijeli broj - mora biti cijeli broj podataka pod prozorom\n",
    "    fft_window_size = round(fft_relative_window_size * sampling_rate)\n",
    "    # Parni broj točaka za FFT - 496 po mom izračunu ((990 / 2 = 495) + 1)\n",
    "    fft_window_size += (fft_window_size % 2)\n",
    "    display(f'fft_window: {fft_window_size}')\n",
    "    # FFT resolution\n",
    "    fft_resolution = sampling_rate / fft_window_size\n",
    "    display(f'fft_resolution: {fft_resolution}')\n",
    "    # Ukupan broj podataka mora biti višekratnik veličine prozora da bi obrada funkcionirala\n",
    "    # U real-time-u se podaci tako i obrađuju (kad ih se skupi 496)\n",
    "    # Reshape data to window_size × n array (disregard starting few points)\n",
    "    time_dat = time_dat[dat_len%fft_window_size:].reshape((-1, fft_window_size)) \n",
    "    emg_dat = emg_dat[dat_len%fft_window_size:].reshape((-1, fft_window_size)) \n",
    "    grip_dat = grip_dat[dat_len%fft_window_size:].reshape((-1, fft_window_size)) \n",
    "    # Calculate RFFT on emg_data\n",
    "    emg_fft = scipy.fft.rfft(emg_dat)\n",
    "    # Ispis oblika matrica\n",
    "    display(f'time: {time_dat.shape}')\n",
    "    display(f'emg_dat: {emg_dat.shape}')\n",
    "    display(f'grip_dat: {grip_dat.shape}')\n",
    "    display(f'emg_fft: {emg_fft.shape}')\n",
    "    fft_dim = emg_fft.shape[1] # koliko je dugačak redak u fft\n",
    "    print (f'fft_dim: {fft_dim}')\n",
    "\n",
    "    import itertools\n",
    "    rolling_window_relative_size = [i/100 for i in range(1, 50)]\n",
    "    smoothing_factor = [i/1000 for i in range(50)]\n",
    "    #display(len(rolling_window_relative_size))\n",
    "    #display(len(smoothing_factor))\n",
    "\n",
    "        \n",
    "    max_corrs_lags = []\n",
    "    max_corrs = []\n",
    "    roll_wind_size = []\n",
    "    smooth_fact = []\n",
    "\n",
    "    i = 0\n",
    "    for params in itertools.product(rolling_window_relative_size, smoothing_factor):\n",
    "        i += 1\n",
    "        # Random 0 - 1, 250 kom\n",
    "        optimization_params = np.random.random(fft_dim)\n",
    "        optimization_params = np.append(optimization_params, params)\n",
    "        optimization_params[0] = 0 #uvijek nultu vrednost maknem skroz\n",
    "        emg_ifft = scipy.fft.irfft(emg_fft * optimization_params[:fft_dim])\n",
    "        rolling_window_size = round(optimization_params[fft_dim] * sampling_rate)\n",
    "        emg_abs = np.abs(emg_ifft.ravel()) \n",
    "        window_ema = np.array([(1-optimization_params[fft_dim+1])**i for i in range(rolling_window_size)]) \n",
    "        window_ema = window_ema / window_ema.sum() \n",
    "        emg_ema = scipy.signal.fftconvolve(emg_abs, window_ema[::-1], mode='valid')\n",
    "        grip_flat = grip_dat.ravel()[rolling_window_size-1:]\n",
    "        emg_ema = emg_ema - emg_ema.mean()\n",
    "        grip_flat = grip_flat - grip_flat.mean()\n",
    "        corr_ema = scipy.signal.fftconvolve(emg_ema, grip_flat[::-1], mode='full')\n",
    "        corr_ema /= (len(grip_flat) * emg_ema.std() * grip_flat.std())\n",
    "        lags = scipy.signal.correlation_lags(len(emg_ema), len(grip_flat), mode='full')\n",
    "        max_corr_lag_ema = lags[np.argmax(np.abs(corr_ema))]\n",
    "        max_corr = np.abs(corr_ema).max()\n",
    "        max_corrs_lags.append(max_corr_lag_ema)\n",
    "        if max_corrs:\n",
    "            if max_corr > np.max(max_corrs):\n",
    "                optimal_params = optimization_params\n",
    "        max_corrs.append(max_corr)\n",
    "        roll_wind_size.append(params[0])\n",
    "        smooth_fact.append(params[1])\n",
    "    array_for_output1.append(np.max(max_corrs))\n",
    "    array_for_output2.append(optimal_params[-1])\n",
    "    array_for_output3.append(max_corrs_lags[0])\n",
    "    array_for_output4.append(optimal_params[-2])\n",
    "\n",
    "#print(array_for_output1)\n",
    "#print(array_for_output2)\n",
    "#print(array_for_output3)\n",
    "#print(array_for_output4)\n",
    "#np.savetxt(\"rez.csv\", array_for_output1, header= ,delimiter=\",\")\n",
    "#samo pandas \n",
    "df=pd.DataFrame({\"Max_corrs\": array_for_output1, \"Rolling window size\": array_for_output2, \"Lagovi\": array_for_output3, \"Smoothing factor\":array_for_output4})\n",
    "df.to_csv (\"Rezultati.csv\", index=False)\n",
    "\n",
    "    "
   ]
  },
  {
   "cell_type": "code",
   "execution_count": null,
   "metadata": {},
   "outputs": [],
   "source": [
    "import itertools\n",
    "rolling_window_relative_size = [i/100 for i in range(1, 50)]\n",
    "smoothing_factor = [i/1000 for i in range(50)]\n",
    "#display(len(rolling_window_relative_size))\n",
    "#display(len(smoothing_factor))\n",
    "\n",
    "      \n",
    "max_corrs_lags = []\n",
    "max_corrs = []\n",
    "roll_wind_size = []\n",
    "smooth_fact = []\n",
    "\n",
    "i = 0\n",
    "for params in itertools.product(rolling_window_relative_size, smoothing_factor):\n",
    "  i += 1\n",
    "  # Random 0 - 1, 250 kom\n",
    "  optimization_params = np.random.random(fft_dim)\n",
    "  optimization_params = np.append(optimization_params, params)\n",
    "  optimization_params[0] = 0 #uvijek nultu vrednost maknem skroz\n",
    "  emg_ifft = scipy.fft.irfft(emg_fft * optimization_params[:fft_dim])\n",
    "  rolling_window_size = round(optimization_params[fft_dim] * sampling_rate)\n",
    "  emg_abs = np.abs(emg_ifft.ravel()) \n",
    "  window_ema = np.array([(1-optimization_params[fft_dim+1])**i for i in range(rolling_window_size)]) \n",
    "  window_ema = window_ema / window_ema.sum() \n",
    "  emg_ema = scipy.signal.fftconvolve(emg_abs, window_ema[::-1], mode='valid')\n",
    "  grip_flat = grip_dat.ravel()[rolling_window_size-1:]\n",
    "  emg_ema = emg_ema - emg_ema.mean()\n",
    "  grip_flat = grip_flat - grip_flat.mean()\n",
    "  corr_ema = scipy.signal.fftconvolve(emg_ema, grip_flat[::-1], mode='full')\n",
    "  corr_ema /= (len(grip_flat) * emg_ema.std() * grip_flat.std())\n",
    "  lags = scipy.signal.correlation_lags(len(emg_ema), len(grip_flat), mode='full')\n",
    "  max_corr_lag_ema = lags[np.argmax(np.abs(corr_ema))]\n",
    "  max_corr = np.abs(corr_ema).max()\n",
    "  max_corrs_lags.append(max_corr_lag_ema)\n",
    "  if max_corrs:\n",
    "    if max_corr > np.max(max_corrs):\n",
    "      optimal_params = optimization_params\n",
    "  max_corrs.append(max_corr)\n",
    "  roll_wind_size.append(params[0])\n",
    "  smooth_fact.append(params[1])\n",
    "  # if i < 5:\n",
    "  #   display(optimization_params)\n",
    "\n"
   ]
  },
  {
   "cell_type": "code",
   "execution_count": null,
   "metadata": {},
   "outputs": [],
   "source": [
    "display(f'Max correlation: {np.max(max_corrs)}')\n",
    "display(f'Lag at amx corr: {max_corrs_lags[np.argmax(max_corrs)]/sampling_rate}')\n",
    "display(f'Optimal rolling_window_relative_size: {optimal_params[-2]}')\n",
    "display(f'Optimal smoothing factor: {optimal_params[-1]}')\n",
    "\n",
    "sns.set_theme(context='paper', style='whitegrid', rc={})\n",
    "sns.despine()\n",
    "\n",
    "fig, ax = plt.subplots(3, 1)\n",
    "fig.set_size_inches(w=6., h=6.)\n",
    "sns.scatterplot(\n",
    "  x=smooth_fact,\n",
    "  y=max_corrs,\n",
    "  size=2.,\n",
    "  legend=None,\n",
    "  ax=ax[0]\n",
    ")\n",
    "ax[0].set_title('Correlation - Smoothing factor', fontsize='small', fontweight='bold')\n",
    "sns.scatterplot(\n",
    "  x=roll_wind_size,\n",
    "  y=max_corrs,\n",
    "  size=2.,\n",
    "  legend=None,\n",
    "  ax=ax[1]\n",
    ")\n",
    "ax[1].set_title('Correlation - Rolling window size', fontsize='small', fontweight='bold')\n",
    "sns.scatterplot(\n",
    "  x=max_corrs_lags/sampling_rate,\n",
    "  y=max_corrs,\n",
    "  size=2.,\n",
    "  legend=None,\n",
    "  ax=ax[2]\n",
    ")\n",
    "ax[2].set_title('Correlation - Time lag', fontsize='small', fontweight='bold')\n",
    "# plt.plot(max_corrs_lags, max_corrs, 'o', size=2.)\n",
    "# plt.grid(which='both')\n",
    "plt.suptitle(t=r'Parameter optimization', fontsize='small')\n",
    "plt.tight_layout()\n",
    "fig.savefig('optimizacija.png', dpi=320)\n",
    "plt.show()\n"
   ]
  },
  {
   "cell_type": "code",
   "execution_count": null,
   "metadata": {},
   "outputs": [],
   "source": [
    "# Attenuation/amplification of single frequencies\n",
    "# mijenajati FFT frekvencije množeći s vrijednostima [0, 1.5 - pojačanje]\n",
    "# Kod vas je malo manji sampling rate pa umjesto 250 ima 249 frekvencija\n",
    "# optimization_params = np.random.random(250)\n",
    "# optimization_params = np.random.random(fft_dim)\n",
    "# EMA relative window size -  u sekundama + ovaj random.random zapravo svaki \n",
    "# put kad pokrenete kod malo poveća/smanji rolling window jer ga pomnoži s\n",
    "# random u rasponu (0, 1)\n",
    "# rolling_window_relative_size = 0.25*random.random()\n",
    "# optimization_params = np.append(optimization_params, rolling_window_relative_size)\n",
    "# EMA smoothing factor - isto potebno optimirati, svaki put je malo drugačiji faktor\n",
    "# zbog množenja\n",
    "# smoothing_factor = 0.025 * random.random()\n",
    "# optimization_params = np.append(optimization_params, smoothing_factor)\n",
    "# DC offset always removed\n",
    "# optimization_params[0] = 0 #uvijek nultu vrednost maknem skroz\n",
    "\n",
    "# Optimal parameters after loop\n",
    "optimization_params = optimal_params\n",
    "\n",
    "# emg_fft se pomnoži s nekim brojevima [0, 1.5] da se zapravo filtrira signal\n",
    "# i onda ide inverz da se rekonstruira početni signal + nekakvo filtriranje\n",
    "emg_ifft = scipy.fft.irfft(emg_fft * optimization_params[:fft_dim])\n",
    "\n",
    "# emg_ifft = scipy.fft.irfft (np.dot(emg_fft[:,None],optimization_params[None,:fft_dim]))\n",
    "display(f'emg_ifft: {emg_ifft.shape}')\n",
    "# Odredi se duljina prozora za EMA pomoću relativne duljine (u sekundama) i sampling\n",
    "# rate-a\n",
    "rolling_window_size = round(optimization_params[fft_dim] * sampling_rate)\n",
    "# Ako je slučajno više od prozora za fft, zaokruži se na tu veličinu\n",
    "display(f'rolling_window_size: {rolling_window_size}')\n",
    "if rolling_window_size > fft_window_size:\n",
    "  rolling_window_size  = fft_window_size\n",
    "\n",
    "# Apsolutna vrijednost emg signala nakon filtriranja\n",
    "# Ravel ga spljošti u 1D signal (spoji sve retke matrice u jedan)\n",
    "emg_abs = np.abs(emg_ifft.ravel()) \n",
    "# EMA window - težine s kojima se množi signal\n",
    "window_ema = np.array([(1-optimization_params[fft_dim+1])**i for i in range(rolling_window_size)]) \n",
    "# Normalizacija težina pomoću sume (suma svih težina = 1)\n",
    "window_ema = window_ema / window_ema.sum() \n",
    "# EMA zaglađen emg signal (filtriranje + apsolutna + zaglađivanje)\n",
    "emg_ema = scipy.signal.fftconvolve(emg_abs, window_ema[::-1], mode='valid')\n",
    "\n",
    "# Plot\n",
    "plt.figure(figsize=(8, 6), dpi=320)\n",
    "plt.subplot(4, 1, 1)\n",
    "# Original input signal\n",
    "plt.plot(time_dat.ravel(), emg_dat.ravel())\n",
    "plt.grid(which='both')\n",
    "plt.subplot(4, 1, 2)\n",
    "# Nakon filtriranja + rekostrukcije\n",
    "plt.plot(time_dat.ravel(), emg_ifft.ravel())\n",
    "plt.grid(which='both')\n",
    "plt.subplot(4, 1, 3)\n",
    "# Nakon apsolutne vrijednosti + zaglađivanja\n",
    "plt.plot(time_dat.ravel()[rolling_window_size-1:], emg_ema)\n",
    "plt.grid(which='both')\n",
    "plt.subplot(4, 1, 4)\n",
    "# Grip za usporedbu\n",
    "plt.plot(time_dat.ravel()[rolling_window_size-1:], grip_dat.ravel()[rolling_window_size-1:])\n",
    "plt.grid(which='both')\n",
    "plt.show()"
   ]
  },
  {
   "cell_type": "code",
   "execution_count": null,
   "metadata": {},
   "outputs": [],
   "source": [
    "# Vi zapravo optimirate ovih prvih 249 vrijednosti + jedna za rolling window size + jedna za smoothing factor\n",
    "# Možete napraviti petlju ili nešto slično da ih pretražuje\n",
    "display(optimization_params[:fft_dim].shape)\n",
    "display(optimization_params[fft_dim])\n",
    "display(optimization_params[fft_dim+1])"
   ]
  },
  {
   "cell_type": "code",
   "execution_count": null,
   "metadata": {},
   "outputs": [],
   "source": [
    "display(time_dat.ravel()[rolling_window_size-1:].shape)\n",
    "display(emg_ema.shape)\n",
    "display(grip_dat.ravel()[rolling_window_size-1:].shape)"
   ]
  },
  {
   "cell_type": "markdown",
   "metadata": {},
   "source": [
    "Cross-correlation with Pearson r"
   ]
  },
  {
   "cell_type": "code",
   "execution_count": null,
   "metadata": {},
   "outputs": [],
   "source": [
    "grip_flat = grip_dat.ravel()[rolling_window_size-1:]\n",
    "# Demean signals for \n",
    "emg_ema = emg_ema - emg_ema.mean()\n",
    "grip_flat = grip_flat - grip_flat.mean()\n"
   ]
  },
  {
   "cell_type": "code",
   "execution_count": null,
   "metadata": {},
   "outputs": [],
   "source": [
    "\n",
    "# corr_ema = scipy.signal.correlate(emg_ema, grip_flat, method='fft', mode='full')\n",
    "# display(corr_ema)\n",
    "corr_ema = scipy.signal.fftconvolve(emg_ema, grip_flat[::-1], mode='full')\n",
    "corr_ema /= (len(grip_flat) * emg_ema.std() * grip_flat.std())\n",
    "# display(corr_ema)\n",
    "lags = scipy.signal.correlation_lags(len(emg_ema), len(grip_flat), mode='full')\n",
    "print(f'EMA - GRIP:')\n",
    "print(scipy.stats.pearsonr(emg_ema, grip_flat)[0])\n",
    "max_corr_lag_ema = lags[np.argmax(np.abs(corr_ema))]\n",
    "print(f'EMA -> Corr at 0 lag: {corr_ema[lags == 0]}')\n",
    "print(f'EMA -> Max corr: {np.abs(corr_ema).max()}, Lag: {max_corr_lag_ema} or {max_corr_lag_ema/sampling_rate} sec')\n",
    "plt.figure(figsize=(8, 6), dpi=320)\n",
    "plt.plot(lags, corr_ema)\n",
    "plt.legend(['EMA - GRIP'])\n",
    "plt.grid(which='both')\n",
    "plt.show()"
   ]
  },
  {
   "cell_type": "code",
   "execution_count": null,
   "metadata": {},
   "outputs": [],
   "source": [
    "# %timeit corr_ema = scipy.signal.correlate(emg_ema, grip_flat, method='fft', mode='full')\n",
    "corr_ema1 = scipy.signal.correlate(emg_ema, grip_flat, method='fft', mode='full')\n",
    "display(corr_ema)\n",
    "# %timeit corr_ema = scipy.signal.fftconvolve(emg_ema, grip_flat[::-1], mode='full')\n",
    "corr_ema2 = scipy.signal.fftconvolve(emg_ema, grip_flat[::-1], mode='full')\n",
    "display(corr_ema)\n",
    "# %timeit corr_ema = np.convolve(emg_ema, grip_flat[::-1])\n",
    "corr_ema3 = np.convolve(emg_ema, grip_flat[::-1])\n",
    "display(corr_ema)\n",
    "# %timeit corr_ema = np.correlate(emg_ema, grip_flat, mode='full')\n",
    "corr_ema4 = np.correlate(emg_ema, grip_flat, mode='full')\n",
    "np.allclose(corr_ema1, corr_ema4)"
   ]
  },
  {
   "cell_type": "code",
   "execution_count": null,
   "metadata": {},
   "outputs": [],
   "source": [
    "\"\"\"\n",
    "import numba as nb\n",
    "def rolling_window(emg_arr, window_size):\n",
    "  shape = emg_arr.shape[:-1] + (emg_arr.shape[-1] - window_size + 1, window_size)\n",
    "  strides = emg_arr.strides + (emg_arr.strides[-1],)\n",
    "  return np.lib.stride_tricks.as_strided(emg_arr, shape=shape, strides=strides)\n",
    "\n",
    "\n",
    "@nb.jit(nb.float64[:,:](nb.float64[:], nb.int64), nopython=True)\n",
    "def rolling_window_nb(emg_arr, window_size):\n",
    "  shape = emg_arr.shape[:-1] + (emg_arr.shape[-1] - window_size + 1, window_size)\n",
    "  strides = emg_arr.strides + (emg_arr.strides[-1],)\n",
    "  return np.lib.stride_tricks.as_strided(emg_arr, shape=shape, strides=strides)\n",
    "  \"\"\""
   ]
  },
  {
   "cell_type": "code",
   "execution_count": null,
   "metadata": {},
   "outputs": [],
   "source": [
    "\"\"\"\n",
    "%timeit rolling_window_nb(grip, 500)\n",
    "%timeit rolling_window(grip, 500)\n",
    "\"\"\""
   ]
  },
  {
   "cell_type": "code",
   "execution_count": null,
   "metadata": {},
   "outputs": [],
   "source": [
    "\"\"\"\n",
    "def exponential_ma(emg_rolling, decay, window_size):\n",
    "  # ema_decay = 0.005\n",
    "  window_ema = np.array([(1-decay)**i for i in range(window_size)])\n",
    "  window_ema = window_ema / window_ema.sum()\n",
    "  emg_abs = np.abs(emg_rolling)\n",
    "  return scipy.signal.fftconvolve(emg_abs, window_ema[::-1], mode='valid')\n",
    "  return np.average(np.abs(emg_rolling), axis=-1, weights=window_ema)\n",
    "\n",
    "@nb.jit(nb.float64[:](nb.float64[:,:], nb.float64, nb.int64), nopython=True, fastmath=True)\n",
    "def exponential_ma_nb(emg_rolling, decay, window_size):\n",
    "  # ema_decay = 0.005\n",
    "  window_ema = np.array([(1-decay)**i for i in range(window_size)])\n",
    "  window_ema = window_ema / np.sum(window_ema)\n",
    "  emg_abs = np.abs(emg_rolling)\n",
    "  emg_ema = np.sum(emg_abs*window_ema, axis=-1)\n",
    "  return emg_ema\n",
    "  \"\"\""
   ]
  },
  {
   "cell_type": "code",
   "execution_count": null,
   "metadata": {},
   "outputs": [],
   "source": [
    "\"\"\"\n",
    "%timeit exponential_ma(b.ravel(), 0.005, window_size)\n",
    "%timeit exponential_ma_nb(windowed_emg, 0.005, window_size)\n",
    "\"\"\""
   ]
  },
  {
   "cell_type": "code",
   "execution_count": null,
   "metadata": {},
   "outputs": [],
   "source": [
    "\"\"\"\n",
    "exponential_ma_nb(windowed_emg, 0.005, fft_window_size)\n",
    "# scipy.signal.fftconvolve(np.abs(b.flat), window_ma[::-1], mode='valid')\n",
    "# b\n",
    "# windowed_emg\n",
    "\"\"\""
   ]
  },
  {
   "cell_type": "code",
   "execution_count": null,
   "metadata": {},
   "outputs": [],
   "source": [
    "\"\"\"\n",
    "np.all(np.isclose(\n",
    "  exponential_ma(b.flat, 0.005, fft_window_size),\n",
    "  exponential_ma_nb(windowed_emg, 0.005, fft_window_size)\n",
    "  ))\n",
    "# np.all(np.isclose(\n",
    "#   exponential_ma(b.flat, 0.005, window_size), \n",
    "#   scipy.signal.fftconvolve(np.abs(b.flat), window_ma[::-1], mode='valid'),\n",
    "#   ))\n",
    "\"\"\""
   ]
  },
  {
   "cell_type": "code",
   "execution_count": null,
   "metadata": {},
   "outputs": [],
   "source": []
  }
 ],
 "metadata": {
  "kernelspec": {
   "display_name": "base",
   "language": "python",
   "name": "python3"
  },
  "language_info": {
   "codemirror_mode": {
    "name": "ipython",
    "version": 3
   },
   "file_extension": ".py",
   "mimetype": "text/x-python",
   "name": "python",
   "nbconvert_exporter": "python",
   "pygments_lexer": "ipython3",
   "version": "3.9.12 (main, Apr  4 2022, 05:22:27) [MSC v.1916 64 bit (AMD64)]"
  },
  "orig_nbformat": 4,
  "vscode": {
   "interpreter": {
    "hash": "4a45f69f94fa8da2d70bb8943ce840f363abed962631035725c80787e83f2ca8"
   }
  }
 },
 "nbformat": 4,
 "nbformat_minor": 2
}
